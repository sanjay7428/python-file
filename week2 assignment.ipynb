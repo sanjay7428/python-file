{
 "cells": [
  {
   "cell_type": "markdown",
   "id": "82169c43-17c6-4060-8418-c146848892f2",
   "metadata": {},
   "source": [
    "Q1. How do you comment code in Python? What are the different types of comments"
   ]
  },
  {
   "cell_type": "markdown",
   "id": "fee83033-3dc8-42db-95db-398fc3568de5",
   "metadata": {},
   "source": [
    "ans: Comments are lines of code that are ignored by the interpreter and are not executed as part of the program. Python supports two types of comments:\n"
   ]
  },
  {
   "cell_type": "markdown",
   "id": "878a7f1b-e726-4a98-b020-8a0f92892a02",
   "metadata": {},
   "source": [
    "1.  Single-line comments: To create a single-line comment, you can use the hash character (#) followed by your comment. Anything after the hash symbol on the same line will be considered a comment. For example:\n",
    " "
   ]
  },
  {
   "cell_type": "code",
   "execution_count": 1,
   "id": "6b3d7357-6123-450a-8cdd-16e710f21959",
   "metadata": {},
   "outputs": [
    {
     "name": "stdout",
     "output_type": "stream",
     "text": [
      "data science imapct 2.0\n"
     ]
    }
   ],
   "source": [
    "# This is a single-line comment\n",
    "print(\"data science imapct 2.0\")\n"
   ]
  },
  {
   "cell_type": "markdown",
   "id": "8650fc4b-84fd-40d8-ae46-c7c96ba2b835",
   "metadata": {},
   "source": [
    "2. Multi-line comments: Python does not have a built-in syntax for multi-line comments like some other programming languages. However, you can use multi-line strings as a workaround to achieve a similar effect. Since multi-line strings are not assigned to any variable or used in any way, they act as comments. For example"
   ]
  },
  {
   "cell_type": "code",
   "execution_count": 2,
   "id": "86990c72-78d6-41d9-b2d2-d6728bc10695",
   "metadata": {},
   "outputs": [
    {
     "name": "stdout",
     "output_type": "stream",
     "text": [
      "pw skills\n"
     ]
    }
   ],
   "source": [
    "\"\"\"\n",
    "This is a multi-line comment.\n",
    "It can span multiple lines.\n",
    "\"\"\"\n",
    "print(\"pw skills\")\n"
   ]
  },
  {
   "cell_type": "markdown",
   "id": "044df4a5-01d4-4d83-bcd1-6d64292a97b7",
   "metadata": {},
   "source": [
    "Q2. What are variables in Python? How do you declare and assign values to variables?\n"
   ]
  },
  {
   "cell_type": "markdown",
   "id": "c932e08f-fd3f-4766-84a9-6f93a9588c91",
   "metadata": {},
   "source": [
    "ans:  variables are used to store and manipulate data. A variable is essentially a named location in memory where you can store a value. You can assign different types of data to variables, such as numbers, strings, lists, or more complex objects.\n",
    "To declare and assign a value to a variable in Python, you simply use the assignment operator (=).\n",
    "examples:"
   ]
  },
  {
   "cell_type": "code",
   "execution_count": 3,
   "id": "25e6be6a-ae30-4a15-b04d-8c8c8d676bf4",
   "metadata": {},
   "outputs": [],
   "source": [
    "s = \"hello world\""
   ]
  },
  {
   "cell_type": "code",
   "execution_count": 4,
   "id": "7557816b-6a77-4f48-af54-228690f9a9db",
   "metadata": {},
   "outputs": [],
   "source": [
    "x = 10\n",
    "y = 5\n",
    "z = x + y\n"
   ]
  },
  {
   "cell_type": "code",
   "execution_count": 7,
   "id": "8c7c9a49-8120-4e2e-8a9c-db2faf1f18a1",
   "metadata": {},
   "outputs": [
    {
     "data": {
      "text/plain": [
       "15"
      ]
     },
     "execution_count": 7,
     "metadata": {},
     "output_type": "execute_result"
    }
   ],
   "source": [
    "z"
   ]
  },
  {
   "cell_type": "code",
   "execution_count": 8,
   "id": "17f1fde2-5020-49f9-9d61-1df2bccaa333",
   "metadata": {},
   "outputs": [
    {
     "name": "stdout",
     "output_type": "stream",
     "text": [
      "10\n",
      "Hello\n"
     ]
    }
   ],
   "source": [
    "x = 10\n",
    "print(x)  \n",
    "\n",
    "y = \"Hello\"\n",
    "print(y)  \n"
   ]
  },
  {
   "cell_type": "markdown",
   "id": "e2e632e6-bcef-45fa-8303-b2363fcace30",
   "metadata": {},
   "source": [
    "Q3. How do you convert one data type to another in Python?\n"
   ]
  },
  {
   "cell_type": "markdown",
   "id": "1eb2f6e3-c1b7-41f1-8e5b-7c3209a7a0c8",
   "metadata": {},
   "source": [
    "you can convert one data type to another using type conversion functions or methods.\n",
    "examples:\n"
   ]
  },
  {
   "cell_type": "code",
   "execution_count": 9,
   "id": "1e81ed54-c85d-43c0-9d93-bbc4dd108aa4",
   "metadata": {},
   "outputs": [
    {
     "name": "stdout",
     "output_type": "stream",
     "text": [
      "3\n"
     ]
    }
   ],
   "source": [
    "x = int(3.14)\n",
    "print(x) \n"
   ]
  },
  {
   "cell_type": "code",
   "execution_count": 10,
   "id": "460e2151-df7e-4cc0-b80b-616053fc1bbf",
   "metadata": {},
   "outputs": [
    {
     "name": "stdout",
     "output_type": "stream",
     "text": [
      "3.14\n"
     ]
    }
   ],
   "source": [
    "x = float(\"3.14\")\n",
    "print(x) \n"
   ]
  },
  {
   "cell_type": "code",
   "execution_count": 11,
   "id": "94422fdc-25e6-4b08-964c-1d7dce6d88e0",
   "metadata": {},
   "outputs": [
    {
     "name": "stdout",
     "output_type": "stream",
     "text": [
      "10\n"
     ]
    }
   ],
   "source": [
    "x = str(10)\n",
    "print(x)  \n"
   ]
  },
  {
   "cell_type": "code",
   "execution_count": 12,
   "id": "a70f5002-04e0-48d1-b616-4a6b6bf1f908",
   "metadata": {},
   "outputs": [
    {
     "name": "stdout",
     "output_type": "stream",
     "text": [
      "[1, 2, 3]\n"
     ]
    }
   ],
   "source": [
    "x = list((1, 2, 3))\n",
    "print(x) \n"
   ]
  },
  {
   "cell_type": "code",
   "execution_count": 13,
   "id": "b24804c7-7374-4f5c-83cc-f5dbd3af6465",
   "metadata": {},
   "outputs": [
    {
     "name": "stdout",
     "output_type": "stream",
     "text": [
      "(1, 2, 3)\n"
     ]
    }
   ],
   "source": [
    "x = tuple([1, 2, 3])\n",
    "print(x)  \n"
   ]
  },
  {
   "cell_type": "code",
   "execution_count": 14,
   "id": "7d42fd2c-8bc6-4ccb-8dea-ac5b1f88778c",
   "metadata": {},
   "outputs": [
    {
     "name": "stdout",
     "output_type": "stream",
     "text": [
      "{'h', 'l', 'e', 'o'}\n"
     ]
    }
   ],
   "source": [
    "x = set(\"hello\")\n",
    "print(x)  \n"
   ]
  },
  {
   "cell_type": "code",
   "execution_count": 15,
   "id": "af48bcea-f2b6-474c-b3a7-5714c7a0d30f",
   "metadata": {},
   "outputs": [
    {
     "name": "stdout",
     "output_type": "stream",
     "text": [
      "{1: 'one', 2: 'two', 3: 'three'}\n"
     ]
    }
   ],
   "source": [
    "x = dict([(1, 'one'), (2, 'two'), (3, 'three')])\n",
    "print(x)  \n"
   ]
  },
  {
   "cell_type": "code",
   "execution_count": 16,
   "id": "31b27764-52ec-43b5-8498-eb283f295de4",
   "metadata": {},
   "outputs": [
    {
     "name": "stdout",
     "output_type": "stream",
     "text": [
      "False\n"
     ]
    }
   ],
   "source": [
    "x = bool(0)\n",
    "print(x) \n"
   ]
  },
  {
   "cell_type": "markdown",
   "id": "34bd70b7-e091-4199-8960-1e0fda25ad88",
   "metadata": {},
   "source": [
    "Q4. How do you write and execute a Python script from the command line?\n",
    "ans. \n",
    "step 1    first make a noteped file with the code \n",
    "          prtint (\"i am the student of pw skillls \")\n",
    "          then save it by .py extension \n",
    "step 2    open terminal and type  \"cd\" command for go to the directory where the .py file saved \n",
    "\n",
    "step 3    type python filename.py\n"
   ]
  },
  {
   "cell_type": "markdown",
   "id": "8c43c457-3016-4a7c-808d-419da9187327",
   "metadata": {},
   "source": [
    "Q5. Given a list my_list = [1, 2, 3, 4, 5], write the code to slice the list and obtain the sub-list [2, 3].\n",
    "ans:"
   ]
  },
  {
   "cell_type": "code",
   "execution_count": 17,
   "id": "60ec6012-9ae7-492b-bdca-bc41982b6d5c",
   "metadata": {},
   "outputs": [],
   "source": [
    "my_list=[1,2,3,4,5]"
   ]
  },
  {
   "cell_type": "code",
   "execution_count": 18,
   "id": "36a1980e-1d5d-4530-bde4-32ecfb7e232e",
   "metadata": {},
   "outputs": [
    {
     "data": {
      "text/plain": [
       "[2, 3]"
      ]
     },
     "execution_count": 18,
     "metadata": {},
     "output_type": "execute_result"
    }
   ],
   "source": [
    "my_list[1:3]"
   ]
  },
  {
   "cell_type": "markdown",
   "id": "30cd294e-0aa8-47ab-b508-a122e44003e3",
   "metadata": {},
   "source": [
    "Q6. What is a complex number in mathematics, and how is it represented in Python?\n",
    "ans: In mathematics, a complex number is a number that comprises both a real part and an imaginary part.\n",
    "represented in Python:"
   ]
  },
  {
   "cell_type": "code",
   "execution_count": 19,
   "id": "65837901-f887-413e-a4e8-7ea69462ace5",
   "metadata": {},
   "outputs": [],
   "source": [
    "c= 5+6j"
   ]
  },
  {
   "cell_type": "code",
   "execution_count": 20,
   "id": "5c541ecf-97e0-4623-bc22-38dc2196ff41",
   "metadata": {},
   "outputs": [
    {
     "data": {
      "text/plain": [
       "complex"
      ]
     },
     "execution_count": 20,
     "metadata": {},
     "output_type": "execute_result"
    }
   ],
   "source": [
    "type(c)"
   ]
  },
  {
   "cell_type": "markdown",
   "id": "7b6191de-bf78-47ca-8631-8d501456cc6f",
   "metadata": {},
   "source": [
    "Q7. What is the correct way to declare a variable named age and assign the value 25 to it?\n",
    "ans:the correct way to declare a variable named age and assign the value 25 to it is as follows:\n",
    "    "
   ]
  },
  {
   "cell_type": "code",
   "execution_count": 21,
   "id": "a1efcb36-ac49-4439-890e-9a0f343b9938",
   "metadata": {},
   "outputs": [],
   "source": [
    "age = 25\n"
   ]
  },
  {
   "cell_type": "markdown",
   "id": "63d49fc7-f665-44d7-8be6-8e64dba734a3",
   "metadata": {},
   "source": [
    "Q8. Declare a variable named price and assign the value 9.99 to it. What data type does this variable\n",
    "belong to?\n",
    "ans:"
   ]
  },
  {
   "cell_type": "code",
   "execution_count": 22,
   "id": "f1f8831e-070c-425b-8f19-4234b22a8b32",
   "metadata": {},
   "outputs": [],
   "source": [
    "price = 9.99"
   ]
  },
  {
   "cell_type": "code",
   "execution_count": 23,
   "id": "5ef22836-7f0e-41d2-b118-95dfa7f556fb",
   "metadata": {},
   "outputs": [
    {
     "data": {
      "text/plain": [
       "float"
      ]
     },
     "execution_count": 23,
     "metadata": {},
     "output_type": "execute_result"
    }
   ],
   "source": [
    "type(price)\n"
   ]
  },
  {
   "cell_type": "markdown",
   "id": "a9819f16-f2ed-41c1-a029-d8e85089f079",
   "metadata": {},
   "source": [
    "Q9. Create a variable named name and assign your full name to it as a string. How would you print the\n",
    "value of this variable?\n",
    "ans:"
   ]
  },
  {
   "cell_type": "code",
   "execution_count": 24,
   "id": "fa894c04-0c71-4c13-b39f-77f3175b0f7e",
   "metadata": {},
   "outputs": [],
   "source": [
    "my_name = \"sanjay kumar saini\""
   ]
  },
  {
   "cell_type": "code",
   "execution_count": 25,
   "id": "a406b4ae-c5f8-470a-80e3-980bfb61b117",
   "metadata": {},
   "outputs": [
    {
     "name": "stdout",
     "output_type": "stream",
     "text": [
      "sanjay kumar saini\n"
     ]
    }
   ],
   "source": [
    "print(my_name)"
   ]
  },
  {
   "cell_type": "markdown",
   "id": "523fc1ba-d3b1-4720-8d6a-d885e3eb2f22",
   "metadata": {},
   "source": [
    "Q10. Given the string \"Hello, World!\", extract the substring \"World\".\n",
    "ans:\n"
   ]
  },
  {
   "cell_type": "code",
   "execution_count": 26,
   "id": "882773b8-4b8e-4234-9643-e013ce06b424",
   "metadata": {},
   "outputs": [],
   "source": [
    "s = \"Hello, World!\""
   ]
  },
  {
   "cell_type": "code",
   "execution_count": 28,
   "id": "464fe3d0-8702-4fc2-9c4f-3232eb75140f",
   "metadata": {},
   "outputs": [
    {
     "data": {
      "text/plain": [
       "'World'"
      ]
     },
     "execution_count": 28,
     "metadata": {},
     "output_type": "execute_result"
    }
   ],
   "source": [
    "s[7:12]"
   ]
  },
  {
   "cell_type": "markdown",
   "id": "c826e5b4-c1c2-40d3-86f1-8e7270afb1fb",
   "metadata": {},
   "source": [
    "Q11. Create a variable named \"is_student\" and assign it a boolean value indicating whether you are\n",
    "currently a student or not."
   ]
  }
 ],
 "metadata": {
  "kernelspec": {
   "display_name": "Python 3 (ipykernel)",
   "language": "python",
   "name": "python3"
  },
  "language_info": {
   "codemirror_mode": {
    "name": "ipython",
    "version": 3
   },
   "file_extension": ".py",
   "mimetype": "text/x-python",
   "name": "python",
   "nbconvert_exporter": "python",
   "pygments_lexer": "ipython3",
   "version": "3.10.8"
  }
 },
 "nbformat": 4,
 "nbformat_minor": 5
}
