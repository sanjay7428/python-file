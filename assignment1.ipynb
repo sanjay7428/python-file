{
 "cells": [
  {
   "cell_type": "markdown",
   "id": "82abac11-19f9-4349-b8c8-0ddb4d3dd716",
   "metadata": {},
   "source": [
    "Q.1 creat one variable containing following type of data:\n",
    "string\n",
    "float \n",
    "list\n",
    "tuple"
   ]
  },
  {
   "cell_type": "code",
   "execution_count": 1,
   "id": "65f4d416-5cc5-4cdc-8e13-4c39ca2c8fb7",
   "metadata": {},
   "outputs": [],
   "source": [
    "s = \"python developer\""
   ]
  },
  {
   "cell_type": "code",
   "execution_count": 2,
   "id": "77497668-4a7c-4d67-a298-0b31525100d5",
   "metadata": {},
   "outputs": [
    {
     "data": {
      "text/plain": [
       "str"
      ]
     },
     "execution_count": 2,
     "metadata": {},
     "output_type": "execute_result"
    }
   ],
   "source": [
    "type(s)"
   ]
  },
  {
   "cell_type": "code",
   "execution_count": 3,
   "id": "1e0d5d25-c9c8-4d6b-b833-56af46766ba4",
   "metadata": {},
   "outputs": [],
   "source": [
    "f = 26.25"
   ]
  },
  {
   "cell_type": "code",
   "execution_count": 4,
   "id": "68a451e8-5671-4931-b014-bf60691cd663",
   "metadata": {},
   "outputs": [
    {
     "data": {
      "text/plain": [
       "float"
      ]
     },
     "execution_count": 4,
     "metadata": {},
     "output_type": "execute_result"
    }
   ],
   "source": [
    "type(f)"
   ]
  },
  {
   "cell_type": "code",
   "execution_count": 5,
   "id": "ec396d6f-deaf-44e4-9d1c-6b6d09b7c9e1",
   "metadata": {},
   "outputs": [],
   "source": [
    "l = [45,57,34,\"pwskilla\", \"assignment\",21.12, 23.45, 4+6j]"
   ]
  },
  {
   "cell_type": "code",
   "execution_count": 6,
   "id": "308d3adf-4dfa-4bb6-aee3-cbfced0e142d",
   "metadata": {},
   "outputs": [
    {
     "data": {
      "text/plain": [
       "list"
      ]
     },
     "execution_count": 6,
     "metadata": {},
     "output_type": "execute_result"
    }
   ],
   "source": [
    "type(l)"
   ]
  },
  {
   "cell_type": "code",
   "execution_count": 8,
   "id": "c1d9d7a7-012d-40f7-a8e9-c6dd250bede2",
   "metadata": {},
   "outputs": [],
   "source": [
    "t = (45,6,78,9, \"sanjay\", \"tuple\",12.24)"
   ]
  },
  {
   "cell_type": "code",
   "execution_count": 9,
   "id": "68aca9a4-9d0d-4e7d-b5a8-5b6547eabf79",
   "metadata": {},
   "outputs": [
    {
     "data": {
      "text/plain": [
       "tuple"
      ]
     },
     "execution_count": 9,
     "metadata": {},
     "output_type": "execute_result"
    }
   ],
   "source": [
    "type(t)"
   ]
  },
  {
   "cell_type": "markdown",
   "id": "2f47d048-1a13-40c9-a4d6-b4add1d39b8d",
   "metadata": {},
   "source": [
    "given are some following variable containing data:\n",
    "var1 = ''\n",
    "var2 = '[DS, ML, Python]'\n",
    "var3 = [DS, ML, Python]\n",
    "var4 = 1"
   ]
  },
  {
   "cell_type": "code",
   "execution_count": 11,
   "id": "5504f2ad-99b1-4688-b324-f6916a770b76",
   "metadata": {},
   "outputs": [],
   "source": [
    "var1 = ''"
   ]
  },
  {
   "cell_type": "code",
   "execution_count": 12,
   "id": "0cda7041-6827-4c45-8d0a-8eb3058b245e",
   "metadata": {},
   "outputs": [
    {
     "data": {
      "text/plain": [
       "str"
      ]
     },
     "execution_count": 12,
     "metadata": {},
     "output_type": "execute_result"
    }
   ],
   "source": [
    "type(var1)"
   ]
  },
  {
   "cell_type": "code",
   "execution_count": 13,
   "id": "3e186202-7780-4d6d-9ac3-aed60c4e1539",
   "metadata": {},
   "outputs": [],
   "source": [
    "var2  = '[DS, ML, Python]'"
   ]
  },
  {
   "cell_type": "code",
   "execution_count": 14,
   "id": "74b80453-9c26-4463-8aa9-2358dd1d2c16",
   "metadata": {},
   "outputs": [
    {
     "data": {
      "text/plain": [
       "str"
      ]
     },
     "execution_count": 14,
     "metadata": {},
     "output_type": "execute_result"
    }
   ],
   "source": [
    "type(var2)"
   ]
  },
  {
   "cell_type": "code",
   "execution_count": 15,
   "id": "345f9e02-861f-40dc-8afe-464ee9a6b837",
   "metadata": {},
   "outputs": [],
   "source": [
    "var3 = ['DS', 'ML', 'Python']"
   ]
  },
  {
   "cell_type": "code",
   "execution_count": 16,
   "id": "f54dc4d1-8c25-4f25-9ad9-7423a58d3af3",
   "metadata": {},
   "outputs": [
    {
     "data": {
      "text/plain": [
       "list"
      ]
     },
     "execution_count": 16,
     "metadata": {},
     "output_type": "execute_result"
    }
   ],
   "source": [
    "type(var3)"
   ]
  },
  {
   "cell_type": "code",
   "execution_count": 17,
   "id": "8e5d1ed2-c84c-4781-a50b-3a3c52423ee2",
   "metadata": {},
   "outputs": [],
   "source": [
    "var4 = 1"
   ]
  },
  {
   "cell_type": "code",
   "execution_count": 18,
   "id": "7e2561cf-d80a-4d1c-9de4-7a9a9e33c597",
   "metadata": {},
   "outputs": [
    {
     "data": {
      "text/plain": [
       "int"
      ]
     },
     "execution_count": 18,
     "metadata": {},
     "output_type": "execute_result"
    }
   ],
   "source": [
    "type(var4)"
   ]
  },
  {
   "cell_type": "markdown",
   "id": "0b2238b9-5fc4-445f-8c89-e1b709773d2d",
   "metadata": {},
   "source": [
    "Q.3 explain the use of the following operators using an example:\n",
    "/\n",
    "%\n",
    "//\n",
    "**"
   ]
  },
  {
   "cell_type": "code",
   "execution_count": 21,
   "id": "4eba8b60-a077-47fb-8326-1300b8fa51de",
   "metadata": {},
   "outputs": [
    {
     "data": {
      "text/plain": [
       "9.0"
      ]
     },
     "execution_count": 21,
     "metadata": {},
     "output_type": "execute_result"
    }
   ],
   "source": [
    "45/5 #mean of /  returns the quotient of divding the left hand operand by right hand operand"
   ]
  },
  {
   "cell_type": "code",
   "execution_count": 24,
   "id": "6cbba178-a340-4123-9882-6f196fae41dd",
   "metadata": {},
   "outputs": [
    {
     "data": {
      "text/plain": [
       "3"
      ]
     },
     "execution_count": 24,
     "metadata": {},
     "output_type": "execute_result"
    }
   ],
   "source": [
    "52%7 # mean of %  returns the remainder of dividing the left hand operand by right hand operand"
   ]
  },
  {
   "cell_type": "code",
   "execution_count": 28,
   "id": "5ae2a7b6-e384-4eea-9aed-3b7d508cc58a",
   "metadata": {},
   "outputs": [
    {
     "data": {
      "text/plain": [
       "22"
      ]
     },
     "execution_count": 28,
     "metadata": {},
     "output_type": "execute_result"
    }
   ],
   "source": [
    "67//3 #this // operator divides the first number by the second number and rounds the result down to the nearest integer"
   ]
  },
  {
   "cell_type": "code",
   "execution_count": 30,
   "id": "8ab27435-03d9-4eb9-9c47-97bf52029d59",
   "metadata": {},
   "outputs": [
    {
     "data": {
      "text/plain": [
       "25"
      ]
     },
     "execution_count": 30,
     "metadata": {},
     "output_type": "execute_result"
    }
   ],
   "source": [
    "5**2 #mean of ** returns the value of the second number to the power of the first number"
   ]
  },
  {
   "cell_type": "markdown",
   "id": "21bce571-fe08-4c84-a0b1-01cf60aae6f5",
   "metadata": {},
   "source": [
    "Q.4 Create a list of length 10 of your choice containing multiple types of data. Using for loop print the\n",
    "element and its data type."
   ]
  },
  {
   "cell_type": "code",
   "execution_count": 3,
   "id": "0b666867-c4e2-481e-ac6f-749d3e806d97",
   "metadata": {},
   "outputs": [],
   "source": [
    "l = [4,67,89,3,\"linkedin\", \"data science\", 12.02, 8+6j]"
   ]
  },
  {
   "cell_type": "code",
   "execution_count": 4,
   "id": "3b86db30-c331-49ad-88b8-da9f538c1a0b",
   "metadata": {},
   "outputs": [
    {
     "name": "stdout",
     "output_type": "stream",
     "text": [
      "4 <class 'int'>\n",
      "67 <class 'int'>\n",
      "89 <class 'int'>\n",
      "3 <class 'int'>\n",
      "linkedin <class 'str'>\n",
      "data science <class 'str'>\n",
      "12.02 <class 'float'>\n",
      "(8+6j) <class 'complex'>\n"
     ]
    }
   ],
   "source": [
    "for i in l:\n",
    "    print(i, type(i))"
   ]
  },
  {
   "cell_type": "markdown",
   "id": "d4dd4fe0-e505-4a40-b4ec-568b337e0c1e",
   "metadata": {},
   "source": [
    "Q5. Using a while loop, verify if the number A is purely divisible by number B and if so then how many\n",
    "times it can be divisible."
   ]
  },
  {
   "cell_type": "code",
   "execution_count": null,
   "id": "eb73ff6b-d155-46c7-96d5-ad7cd811713c",
   "metadata": {},
   "outputs": [],
   "source": [
    "num1 = int(input(\"put number 1\"))\n",
    "num2 = int(input(\"put number 2\"))\n",
    "\n",
    "while num2<=num1:\n",
    "    if num1%num2==0"
   ]
  },
  {
   "cell_type": "markdown",
   "id": "9988f9aa-fc84-49b8-99ff-917c4daff9eb",
   "metadata": {},
   "source": [
    "Q.6 Create a list containing 25 int type data. Using for loop and if-else condition print if the element is\n",
    "divisible by 3 or not.\n",
    "\n"
   ]
  },
  {
   "cell_type": "code",
   "execution_count": 35,
   "id": "386a6661-7ab3-4745-80e7-8af49562eb78",
   "metadata": {},
   "outputs": [],
   "source": [
    "l = [23,45,67,56,78,24,60,37,47,95,9,43,83,26,73,75,27,79,21,48,98,19,16,30,90]"
   ]
  },
  {
   "cell_type": "code",
   "execution_count": 36,
   "id": "a5e79e2c-9ed2-4ef9-becc-879513199afb",
   "metadata": {},
   "outputs": [
    {
     "data": {
      "text/plain": [
       "25"
      ]
     },
     "execution_count": 36,
     "metadata": {},
     "output_type": "execute_result"
    }
   ],
   "source": [
    "len(l)"
   ]
  },
  {
   "cell_type": "code",
   "execution_count": 37,
   "id": "27fa4ef6-3e3c-48d5-a61f-180061fdd7cb",
   "metadata": {},
   "outputs": [
    {
     "name": "stdout",
     "output_type": "stream",
     "text": [
      "23 not divided\n",
      "45 divided\n",
      "67 not divided\n",
      "56 not divided\n",
      "78 divided\n",
      "24 divided\n",
      "60 divided\n",
      "37 not divided\n",
      "47 not divided\n",
      "95 not divided\n",
      "9 divided\n",
      "43 not divided\n",
      "83 not divided\n",
      "26 not divided\n",
      "73 not divided\n",
      "75 divided\n",
      "27 divided\n",
      "79 not divided\n",
      "21 divided\n",
      "48 divided\n",
      "98 not divided\n",
      "19 not divided\n",
      "16 not divided\n",
      "30 divided\n",
      "90 divided\n"
     ]
    }
   ],
   "source": [
    "for num in l:\n",
    "    if num % 3 == 0:\n",
    "        print (num,\"divided\")\n",
    "        \n",
    "    else:\n",
    "        print(num,\"not divided\")"
   ]
  },
  {
   "cell_type": "markdown",
   "id": "99d83255-24e3-47c8-a32f-4b9ad90f5b80",
   "metadata": {},
   "source": [
    "Q.7 What do you understand about mutable and immutable data types? Give examples for both showing\n",
    "this property.\n",
    "ans:  Immutable data types cannot be changed after they are created, while mutable data types can be modified. example-"
   ]
  },
  {
   "cell_type": "code",
   "execution_count": 1,
   "id": "957d9578-2abd-42ce-97f0-3a2837bb5152",
   "metadata": {},
   "outputs": [],
   "source": [
    "s = \"helloworld\""
   ]
  },
  {
   "cell_type": "code",
   "execution_count": 2,
   "id": "1a5ab827-271e-4326-8851-dfb0017cf40b",
   "metadata": {},
   "outputs": [
    {
     "ename": "NameError",
     "evalue": "name 'n' is not defined",
     "output_type": "error",
     "traceback": [
      "\u001b[0;31m---------------------------------------------------------------------------\u001b[0m",
      "\u001b[0;31mNameError\u001b[0m                                 Traceback (most recent call last)",
      "Cell \u001b[0;32mIn[2], line 1\u001b[0m\n\u001b[0;32m----> 1\u001b[0m s[\u001b[38;5;241m1\u001b[39m] \u001b[38;5;241m=\u001b[39m \u001b[43mn\u001b[49m\n",
      "\u001b[0;31mNameError\u001b[0m: name 'n' is not defined"
     ]
    }
   ],
   "source": [
    "s[1] = n"
   ]
  },
  {
   "cell_type": "code",
   "execution_count": 3,
   "id": "cd88f7fc-677a-4b28-b96d-f8c7c9c1c438",
   "metadata": {},
   "outputs": [],
   "source": [
    "l = [345,56,78,\"masterclass\", \"impact2.0\", 5+6j, True]"
   ]
  },
  {
   "cell_type": "code",
   "execution_count": 4,
   "id": "8bd5f0d7-90df-4fbd-a840-68b00cb008d4",
   "metadata": {},
   "outputs": [],
   "source": [
    "l[2] = 23.23"
   ]
  },
  {
   "cell_type": "code",
   "execution_count": 5,
   "id": "cd84b459-173a-4e17-b4b8-ce8f4e4476cf",
   "metadata": {},
   "outputs": [
    {
     "data": {
      "text/plain": [
       "[345, 56, 23.23, 'masterclass', 'impact2.0', (5+6j), True]"
      ]
     },
     "execution_count": 5,
     "metadata": {},
     "output_type": "execute_result"
    }
   ],
   "source": [
    "l"
   ]
  },
  {
   "cell_type": "code",
   "execution_count": null,
   "id": "607569b5-4b04-4dc6-9a67-16a09f19cb8f",
   "metadata": {},
   "outputs": [],
   "source": []
  }
 ],
 "metadata": {
  "kernelspec": {
   "display_name": "Python 3 (ipykernel)",
   "language": "python",
   "name": "python3"
  },
  "language_info": {
   "codemirror_mode": {
    "name": "ipython",
    "version": 3
   },
   "file_extension": ".py",
   "mimetype": "text/x-python",
   "name": "python",
   "nbconvert_exporter": "python",
   "pygments_lexer": "ipython3",
   "version": "3.10.8"
  }
 },
 "nbformat": 4,
 "nbformat_minor": 5
}
