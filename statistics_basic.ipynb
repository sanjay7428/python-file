{
 "cells": [
  {
   "cell_type": "markdown",
   "id": "d7e048d0-d0ce-41cd-ae58-f352d5296a54",
   "metadata": {},
   "source": [
    "Q.1 What is Statistics?"
   ]
  },
  {
   "cell_type": "markdown",
   "id": "1848aae8-b18c-42a3-be0d-0502ab391e3a",
   "metadata": {},
   "source": [
    "Ans. Statistics is  refers to the branch of mathematics that deals with collecting, analyzing, interpreting, presenting, and organizing data."
   ]
  },
  {
   "cell_type": "markdown",
   "id": "20df52b5-412c-45ea-b293-4f352302389d",
   "metadata": {},
   "source": [
    "Q2. Define the different types of statistics and give an example of when each type might be used."
   ]
  },
  {
   "cell_type": "markdown",
   "id": "dd6866f8-54ec-4c60-853c-cbb94b8ca33d",
   "metadata": {},
   "source": [
    "Ans. Statistics can be broadly categorized into two main types: descriptive statistics and inferential statistics.\n",
    "     Descriptive Statistics:Descriptive statistics involve methods for summarizing and describing the main features of a dataset.\n",
    "     example: Measures of Central Tendency, Measures of Dispersion, Frequency Distributions, Measures of Shap\n",
    "     Inferential Statistics: Inferential statistics involve making predictions or inferences about a population based on a sample of data.\n",
    "     example: Hypothesis Testing , Z-Test ,T-Test,Confidence Intervals, significance value\n",
    "     "
   ]
  },
  {
   "cell_type": "markdown",
   "id": "fa2766e2-ccba-4402-ac6b-3e294328db91",
   "metadata": {},
   "source": [
    "Q3. What are the different types of data and how do they differ from each other? Provide an example of\n",
    "each type of data."
   ]
  },
  {
   "cell_type": "markdown",
   "id": "832422f1-c7dc-4cc1-b9c0-de8546296291",
   "metadata": {},
   "source": [
    "Ans. The main types of data are:\n",
    "     1. Nominal Data: Nominal data are categorical data that represent categories or names with no inherent order or ranking.\n",
    "     ex- Gender (Male, Female)\n",
    "         Marital Status (Single, Married, Divorced)\n",
    "         Eye Color (Blue, Brown, Green)\n",
    "     2. Ordinal Data: Ordinal data are categorical data similar to nominal data but with the added feature of having a natural order or ranking.         The categories can be ranked or ordered. \n",
    "     ex- Education Level (High School Diploma, Bachelor's Degree, Master's Degree)\n",
    "         Likert Scale Responses (Strongly Disagree, Disagree, Neutral, Agree, Strongly Agree)\n",
    "         Socioeconomic Status (Low, Middle, High)\n",
    "     3. Interval Data: Interval data are numeric data where the difference between any two values is meaningful and consistent, but there is no                        true zero point.  \n",
    "     ex- Temperature measured in Celsius or Fahrenheit (e.g., 20°C, 30°F)\n",
    "         Years (e.g., 2000, 2010, 2020)\n",
    "         IQ Scores (e.g., 100, 120, 140)\n",
    "     4. Ratio Data: Ratio data are numeric data that have a true zero point, meaning that zero indicates the absence of the quantity being                           measured.  \n",
    "     ex- Height (e.g., 150 cm, 180 cm)\n",
    "         Weight (e.g., 50 kg, 70 kg)\n",
    "         Income (e.g., $0, $50,000, $100,000)\n",
    "         "
   ]
  },
  {
   "cell_type": "markdown",
   "id": "f049ba90-3d96-4437-a716-e23a3fd8ad4b",
   "metadata": {},
   "source": [
    "Q4. Categorise the following datasets with respect to quantitative and qualitative data types:\n",
    "(i) Grading in exam: A+, A, B+, B, C+, C, D, E\n",
    "(ii) Colour of mangoes: yellow, green, orange, red\n",
    "(iii) Height data of a class: [178.9, 179, 179.5, 176, 177.2, 178.3, 175.8,...]\n",
    "(iv) Number of mangoes exported by a farm: [500, 600, 478, 672, ...]"
   ]
  },
  {
   "cell_type": "markdown",
   "id": "cc440fdc-c494-4766-ba1f-8023cb399cd5",
   "metadata": {},
   "source": [
    "Ans. quantitative data: (iii) Height data of a class: [178.9, 179, 179.5, 176, 177.2, 178.3, 175.8,...]\n",
    "                         (iv) Number of mangoes exported by a farm: [500, 600, 478, 672, ...]\n",
    "     qualitative data :  (i) Grading in exam: A+, A, B+, B, C+, C, D, E\n",
    "                        (ii) Colour of mangoes: yellow, green, orange, red"
   ]
  },
  {
   "cell_type": "markdown",
   "id": "dd52f1f4-4815-459d-b2a6-ccfdb6896bf9",
   "metadata": {},
   "source": [
    "Q5. Explain the concept of levels of measurement and give an example of a variable for each level."
   ]
  },
  {
   "cell_type": "markdown",
   "id": "d0193632-f118-4fa1-988e-598dd21ea829",
   "metadata": {},
   "source": [
    "Ans. Nominal Level of Measurement:\n",
    "Nominal level variables are categorical variables that represent categories or labels with no inherent order or ranking. They can only be classified into mutually exclusive categories. Examples of nominal level variables include:\n",
    "\n",
    "Eye color (Blue, Brown, Green)\n",
    "Types of fruit (Apple, Orange, Banana)\n",
    "Political affiliation (Republican, Democrat, Independent)\n",
    "Ordinal Level of Measurement:\n",
    "Ordinal level variables are categorical variables similar to nominal variables but with the added feature of having a natural order or ranking. The categories can be ranked or ordered, but the differences between the categories may not be uniform or measurable. Examples of ordinal level variables include:\n",
    "\n",
    "Educational attainment (High School Diploma, Bachelor's Degree, Master's Degree)\n",
    "Socioeconomic status (Low, Middle, High)\n",
    "Likert scale responses (Strongly Disagree, Disagree, Neutral, Agree, Strongly Agree)\n",
    "Interval Level of Measurement:\n",
    "Interval level variables are numeric variables where the difference between any two values is meaningful and consistent, but there is no true zero point. Interval variables can be added and subtracted, but multiplication and division do not make sense. Examples of interval level variables include:\n",
    "\n",
    "Temperature measured in Celsius or Fahrenheit (e.g., 20°C, 30°F)\n",
    "Dates (e.g., January 1st, February 15th)\n",
    "IQ scores (e.g., 100, 120, 140)\n",
    "Ratio Level of Measurement:\n",
    "Ratio level variables are numeric variables that have a true zero point, meaning that zero indicates the absence of the quantity being measured. Ratio variables can be added, subtracted, multiplied, and divided, and meaningful ratios can be calculated. Examples of ratio level variables include:\n",
    "\n",
    "Height (e.g., 150 cm, 180 cm)\n",
    "Weight (e.g., 50 kg, 70 kg)\n",
    "Income (e.g., $0, $50,000, $100,000)"
   ]
  },
  {
   "cell_type": "markdown",
   "id": "32fe7a4a-d306-4ae0-8222-aca0a67830f0",
   "metadata": {},
   "source": [
    "Q6. Why is it important to understand the level of measurement when analyzing data? Provide an\n",
    "example to illustrate your answer."
   ]
  },
  {
   "cell_type": "markdown",
   "id": "a11223d1-0a75-4173-98f9-a463be783e8f",
   "metadata": {},
   "source": [
    "Ans. Understanding the level of measurement when analyzing data is crucial because it determines the types of statistical analyses and                operations that can be performed on the data, as well as the appropriate interpretations of the results. \n",
    "Example:\n",
    "Suppose we have a dataset containing information about the education levels of individuals, categorized as \"High School Diploma,\" \"Bachelor's Degree,\" \"Master's Degree,\" and \"Doctoral Degree.\" Understanding the level of measurement of this variable is essential for proper analysis:\n",
    "\n",
    "If we treat education level as a nominal variable, we can perform frequency counts and percentages to understand the distribution of education levels in the sample.\n",
    "\n",
    "If we treat education level as an ordinal variable, we can perform analyses that take into account the order or ranking of the categories, such as comparing the median education level between different groups.\n",
    "\n",
    "However, if we incorrectly treat education level as an interval or ratio variable, we might attempt to calculate the mean education level or perform arithmetic operations between categories, which would be inappropriate because the categories are not equidistant\n"
   ]
  },
  {
   "cell_type": "markdown",
   "id": "7251dfdf-3ffb-4a30-84f0-ad099b68aa5d",
   "metadata": {},
   "source": [
    "Q7. How nominal data type is different from ordinal data type."
   ]
  },
  {
   "cell_type": "markdown",
   "id": "9f4932c4-e525-4a33-9595-0c50db8c5d53",
   "metadata": {},
   "source": [
    "Ans. Nominal and ordinal data types are both categorical variables, but they differ in the nature of their categories and the level of measurement they represent. Here are the key differences between nominal and ordinal data types:\n",
    "\n",
    "Nature of Categories:\n",
    "\n",
    "Nominal Data: In nominal data, the categories or labels represent distinct groups with no inherent order or ranking. Each category is mutually exclusive and cannot be meaningfully ordered or ranked. Nominal data simply categorize items into different groups without any implied hierarchy.\n",
    "Ordinal Data: In ordinal data, the categories represent groups that can be ordered or ranked based on some criteria. The categories have a natural order, but the intervals between them may not be uniform or measurable. While ordinal data can be ranked, the differences between the categories may not be consistent or meaningful.\n",
    "Level of Measurement:\n",
    "\n",
    "Nominal Data: Nominal data represent the lowest level of measurement. They are qualitative in nature and do not involve quantitative values. Nominal data can be coded numerically for analysis purposes, but the numbers assigned to categories do not have any mathematical significance.\n",
    "Ordinal Data: Ordinal data represent a higher level of measurement compared to nominal data. While they are still categorical in nature, ordinal data have an inherent order or ranking among the categories. However, the intervals between the categories may not be uniform or measurable, and the numerical values assigned to categories only represent their relative positions rather than precise measurements."
   ]
  },
  {
   "cell_type": "markdown",
   "id": "58cbcd79-60af-4370-b537-2cadfe8f8a8e",
   "metadata": {},
   "source": [
    "Q8. Which type of plot can be used to display data in terms of range?"
   ]
  },
  {
   "cell_type": "markdown",
   "id": "c671a883-d0f8-4984-b497-90e39d9412fb",
   "metadata": {},
   "source": [
    "Ans. A type of plot that can be used to display data in terms of range is a box plot, also known as a box-and-whisker plot."
   ]
  },
  {
   "cell_type": "markdown",
   "id": "cdcc40f1-cf5e-4fe6-b46a-d8cd56babf2e",
   "metadata": {},
   "source": [
    "Q9. Describe the difference between descriptive and inferential statistics. Give an example of each\n",
    "type of statistics and explain how they are used."
   ]
  },
  {
   "cell_type": "markdown",
   "id": "12ee846b-468e-40fe-95cc-5256567389b7",
   "metadata": {},
   "source": [
    "Ans. Descriptive Statistics:\n",
    "Descriptive statistics involve methods for summarizing and describing the main features of a dataset. They provide insights into the characteristics of the data but do not make any inferences beyond the dataset itself. Descriptive statistics are used to organize, summarize, and present data in a meaningful way. Examples of descriptive statistics include measures of central tendency (e.g., mean, median, mode), measures of dispersion (e.g., range, standard deviation), and graphical representations (e.g., histograms, bar charts).\n",
    "Example: Suppose you have collected data on the test scores of students in a class. Descriptive statistics can be used to calculate the mean test score to understand the average performance of the class, compute the standard deviation to measure the spread of scores around the mean, and create a histogram to visualize the distribution of test scores among students.\n",
    "\n",
    "Inferential Statistics:\n",
    "Inferential statistics involve making predictions or inferences about a population based on a sample of data. These statistics are used to draw conclusions beyond the observed data and assess the reliability of those conclusions. Inferential statistics allow researchers to make generalizations and test hypotheses about populations using sample data. Examples of inferential statistics include hypothesis testing, confidence intervals, regression analysis, and analysis of variance (ANOVA).\n",
    "Example: Continuing with the example of student test scores, inferential statistics can be used to determine whether there is a significant difference in the mean test scores between two groups of students (e.g., students who received tutoring vs. those who did not). This could involve conducting a t-test to compare the means of the two groups and determining whether any observed differences are statistically significant or occurred by chance."
   ]
  }
 ],
 "metadata": {
  "kernelspec": {
   "display_name": "Python 3 (ipykernel)",
   "language": "python",
   "name": "python3"
  },
  "language_info": {
   "codemirror_mode": {
    "name": "ipython",
    "version": 3
   },
   "file_extension": ".py",
   "mimetype": "text/x-python",
   "name": "python",
   "nbconvert_exporter": "python",
   "pygments_lexer": "ipython3",
   "version": "3.10.8"
  }
 },
 "nbformat": 4,
 "nbformat_minor": 5
}
