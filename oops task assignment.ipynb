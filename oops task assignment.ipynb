{
 "cells": [
  {
   "cell_type": "markdown",
   "id": "d6be219e-c590-4b60-a916-a0f6de6f7419",
   "metadata": {},
   "source": [
    "Q1, Create a vehicle class with an init method having instance variables as name_of_vehicle, max_speed\n",
    "and average_of_vehicle."
   ]
  },
  {
   "cell_type": "code",
   "execution_count": 10,
   "id": "20eecc33-1089-4664-94b4-ec0c812f22d4",
   "metadata": {},
   "outputs": [],
   "source": [
    "class Vahicle:  \n",
    "    def __init__(self, name_of_vahicle, max_speed, average_of_vehicle):\n",
    "        self.name_of_vahicle = name_of_vahicle\n",
    "        self.max_speed = max_speed\n",
    "        self.average_of_vehicle = average_of_vehicle\n",
    "\n",
    "    def return_speed_details(self):\n",
    "        return self.name_of_vahicle, self.max_speed, self.average_of_vehicle"
   ]
  },
  {
   "cell_type": "code",
   "execution_count": 12,
   "id": "ba8550cc-b37a-46a0-baad-ade59f61be9a",
   "metadata": {},
   "outputs": [],
   "source": [
    "vahicle = Vahicle('car', 100, 50)"
   ]
  },
  {
   "cell_type": "code",
   "execution_count": 13,
   "id": "2f8e4a10-878e-415d-9080-a5fe808e1b91",
   "metadata": {},
   "outputs": [
    {
     "data": {
      "text/plain": [
       "('car', 100, 50)"
      ]
     },
     "execution_count": 13,
     "metadata": {},
     "output_type": "execute_result"
    }
   ],
   "source": [
    "vahicle.return_speed_details()"
   ]
  },
  {
   "cell_type": "code",
   "execution_count": 14,
   "id": "f7372a4c-7574-4342-a304-69123d8582a0",
   "metadata": {},
   "outputs": [
    {
     "data": {
      "text/plain": [
       "'car'"
      ]
     },
     "execution_count": 14,
     "metadata": {},
     "output_type": "execute_result"
    }
   ],
   "source": [
    "vahicle.name_of_vahicle"
   ]
  },
  {
   "cell_type": "code",
   "execution_count": 15,
   "id": "63dfa50c-372c-489f-ab0c-7ebb9b6e11ab",
   "metadata": {},
   "outputs": [
    {
     "data": {
      "text/plain": [
       "100"
      ]
     },
     "execution_count": 15,
     "metadata": {},
     "output_type": "execute_result"
    }
   ],
   "source": [
    "vahicle.max_speed"
   ]
  },
  {
   "cell_type": "code",
   "execution_count": 16,
   "id": "ea4992f4-4402-4898-9429-a7fca97bdfc7",
   "metadata": {},
   "outputs": [
    {
     "data": {
      "text/plain": [
       "50"
      ]
     },
     "execution_count": 16,
     "metadata": {},
     "output_type": "execute_result"
    }
   ],
   "source": [
    "vahicle.average_of_vehicle"
   ]
  },
  {
   "cell_type": "markdown",
   "id": "250b6378-172a-4ac8-aa23-6e7759ff58cb",
   "metadata": {},
   "source": [
    "Q2. Create a child class car from the vehicle class created in Que 1, which will inherit the vehicle class.\n",
    "Create a method named seating_capacity which takes capacity as an argument and returns the name of\n",
    "the vehicle and its seating capacity"
   ]
  },
  {
   "cell_type": "code",
   "execution_count": 19,
   "id": "240581c2-86f0-498c-9114-11ab139bd69f",
   "metadata": {},
   "outputs": [],
   "source": [
    "class Car(Vahicle):  \n",
    "    def __init__(self, name_of_vahicle, max_speed, average_of_vehicle):\n",
    "       \n",
    "        self.name_of_vahicle = name_of_vahicle\n",
    "        self.max_speed = max_speed\n",
    "        self.average_of_vehicle = average_of_vehicle  \n",
    "\n",
    "    def seating_capacity(self, capacity):\n",
    "        return f\"{self.name_of_vahicle} has a seating capacity of {capacity} passengers.\" \n",
    "        "
   ]
  },
  {
   "cell_type": "code",
   "execution_count": 20,
   "id": "dabad58f-01be-445c-a44e-777a7561e011",
   "metadata": {},
   "outputs": [],
   "source": [
    "my_car = Car(\"Toyota Corolla\", 180, 12)"
   ]
  },
  {
   "cell_type": "code",
   "execution_count": 21,
   "id": "367d9f0f-f9a1-4757-bb79-7de4a5307437",
   "metadata": {},
   "outputs": [
    {
     "data": {
      "text/plain": [
       "('Toyota Corolla', 180, 12)"
      ]
     },
     "execution_count": 21,
     "metadata": {},
     "output_type": "execute_result"
    }
   ],
   "source": [
    "my_car.return_speed_details()"
   ]
  },
  {
   "cell_type": "code",
   "execution_count": 22,
   "id": "1f00dcf0-0903-4001-87a0-52ef050af82e",
   "metadata": {},
   "outputs": [
    {
     "data": {
      "text/plain": [
       "'Toyota Corolla has a seating capacity of 5 passengers.'"
      ]
     },
     "execution_count": 22,
     "metadata": {},
     "output_type": "execute_result"
    }
   ],
   "source": [
    "my_car.seating_capacity(5)"
   ]
  },
  {
   "cell_type": "markdown",
   "id": "8b5210a3-500d-447d-9659-da2b34901b72",
   "metadata": {},
   "source": [
    "Q3. What is multiple inheritance? Write a python code to demonstrate multiple inheritance.\n",
    "ans: Multiple inheritance is a feature in object-oriented programming where a class can inherit attributes and methods from multiple parent classes. This means that a single class can extend the functionality of multiple base classes simultaneously.\n"
   ]
  },
  {
   "cell_type": "code",
   "execution_count": 1,
   "id": "dfa7216d-113d-40c2-9261-cf2d57d48bf1",
   "metadata": {},
   "outputs": [],
   "source": [
    "class become:\n",
    "    def data_science(self):\n",
    "        return \"i will become data scientist\"\n",
    "\n",
    "class become2(become):\n",
    "    def data_engineering(self):\n",
    "        return \"i will become data engineering\"\n",
    "class become3(become2):\n",
    "    def data_analytics(self):\n",
    "        return \"i will become data analytics\"\n",
    "        "
   ]
  },
  {
   "cell_type": "code",
   "execution_count": 5,
   "id": "3a732dc3-26f9-4180-9626-71ba1f8aaef0",
   "metadata": {},
   "outputs": [],
   "source": [
    "i_am = become3()"
   ]
  },
  {
   "cell_type": "code",
   "execution_count": 6,
   "id": "91feef82-b8d6-4fbb-baf0-0e4a5685a405",
   "metadata": {},
   "outputs": [
    {
     "data": {
      "text/plain": [
       "'i will become data scientist'"
      ]
     },
     "execution_count": 6,
     "metadata": {},
     "output_type": "execute_result"
    }
   ],
   "source": [
    "i_am.data_science()"
   ]
  },
  {
   "cell_type": "code",
   "execution_count": 7,
   "id": "f04b327a-1240-4ad3-8de2-bbd37cacb6b4",
   "metadata": {},
   "outputs": [
    {
     "data": {
      "text/plain": [
       "'i will become data engineering'"
      ]
     },
     "execution_count": 7,
     "metadata": {},
     "output_type": "execute_result"
    }
   ],
   "source": [
    "i_am.data_engineering()"
   ]
  },
  {
   "cell_type": "code",
   "execution_count": 8,
   "id": "5761522f-76a8-42f7-8c00-89a34d18c9eb",
   "metadata": {},
   "outputs": [
    {
     "data": {
      "text/plain": [
       "'i will become data analytics'"
      ]
     },
     "execution_count": 8,
     "metadata": {},
     "output_type": "execute_result"
    }
   ],
   "source": [
    "i_am.data_analytics()"
   ]
  },
  {
   "cell_type": "markdown",
   "id": "0b05807d-af16-40ff-9325-4257499e66d7",
   "metadata": {},
   "source": [
    "Q4. What are getter and setter in python? Create a class and create a getter and a setter method in this\n",
    "class.\n",
    "ans: A getter method is used to retrieve the value of an object's attribute. It provides read-only access to the attribute.\n",
    "A setter method is used to modify the value of an object's attribute. It provides a way to enforce validation or perform specific actions before setting the value."
   ]
  },
  {
   "cell_type": "code",
   "execution_count": 15,
   "id": "2e4113a0-556f-4566-85b4-d9d6b07c718b",
   "metadata": {},
   "outputs": [],
   "source": [
    "class new_child:\n",
    "    def __init__(self, name):\n",
    "        self.__name = name\n",
    "        \n",
    "    def set_name(self,name):\n",
    "        if len(name) > 0:\n",
    "            self.__name = name\n",
    "        \n",
    "    def get_name(self):\n",
    "        return self.__name"
   ]
  },
  {
   "cell_type": "code",
   "execution_count": 16,
   "id": "3cff072d-3309-4739-afe8-3f973d6d010f",
   "metadata": {},
   "outputs": [],
   "source": [
    "child = new_child(\"nitya\")"
   ]
  },
  {
   "cell_type": "code",
   "execution_count": 17,
   "id": "c7dd848b-e179-4e14-bfa9-d8b253bc6974",
   "metadata": {},
   "outputs": [
    {
     "data": {
      "text/plain": [
       "'nitya'"
      ]
     },
     "execution_count": 17,
     "metadata": {},
     "output_type": "execute_result"
    }
   ],
   "source": [
    "child.get_name()"
   ]
  },
  {
   "cell_type": "code",
   "execution_count": 18,
   "id": "4f62e98e-f16b-4ae4-a298-a761434a6d15",
   "metadata": {},
   "outputs": [],
   "source": [
    "child.set_name('nishu')"
   ]
  },
  {
   "cell_type": "code",
   "execution_count": 19,
   "id": "7e7bce4c-843f-4181-a8bb-fd567a910aee",
   "metadata": {},
   "outputs": [
    {
     "data": {
      "text/plain": [
       "'nishu'"
      ]
     },
     "execution_count": 19,
     "metadata": {},
     "output_type": "execute_result"
    }
   ],
   "source": [
    "child.get_name()"
   ]
  },
  {
   "cell_type": "markdown",
   "id": "21009e12-24e7-4245-a80e-68afd9bc0c44",
   "metadata": {},
   "source": [
    "Q5.What is method overriding in python? Write a python code to demonstrate method overriding.\n",
    "Ans:\n",
    "The method in the subclass should have the same name and the same number of parameters as the method it is overriding in the superclass. By doing so, when an object of the subclass is created and a method call is made, Python will look for the method in the subclass first. If found, it will execute the subclass's method instead of the one in the superclass."
   ]
  },
  {
   "cell_type": "code",
   "execution_count": 38,
   "id": "c7730926-dc56-4d8a-87b2-1254257fe252",
   "metadata": {},
   "outputs": [],
   "source": [
    "class data_science:\n",
    "    def class_timing(self):\n",
    "        return \"my data science class timing in morining\""
   ]
  },
  {
   "cell_type": "code",
   "execution_count": 39,
   "id": "6dd16a33-2970-4928-87b6-91e5dfa3ccd7",
   "metadata": {},
   "outputs": [],
   "source": [
    "class data_engineering:\n",
    "    def class_timing(self):\n",
    "        return \"my data engineering class timing in evening\""
   ]
  },
  {
   "cell_type": "code",
   "execution_count": 35,
   "id": "19103eb1-0f6b-4096-8054-7ac02bc76b42",
   "metadata": {},
   "outputs": [],
   "source": [
    "# class class_parcer(class_obj):\n",
    "#     for i in class_obj:\n",
    "#         i.class_timing()"
   ]
  },
  {
   "cell_type": "code",
   "execution_count": null,
   "id": "9ae0ef8e-4d8b-4c46-b5ec-4021404b18d1",
   "metadata": {},
   "outputs": [],
   "source": []
  },
  {
   "cell_type": "code",
   "execution_count": 45,
   "id": "61c330d3-4354-45ef-9232-72e55ac5ac84",
   "metadata": {},
   "outputs": [
    {
     "data": {
      "text/plain": [
       "'my data science class timing in morining'"
      ]
     },
     "execution_count": 45,
     "metadata": {},
     "output_type": "execute_result"
    }
   ],
   "source": [
    "data_science.class_timing()\n"
   ]
  },
  {
   "cell_type": "code",
   "execution_count": 46,
   "id": "4b993d97-0620-468f-b77f-6e39c487c083",
   "metadata": {},
   "outputs": [
    {
     "data": {
      "text/plain": [
       "'my data engineering class timing in evening'"
      ]
     },
     "execution_count": 46,
     "metadata": {},
     "output_type": "execute_result"
    }
   ],
   "source": [
    "data_engineering.class_timing()"
   ]
  },
  {
   "cell_type": "code",
   "execution_count": null,
   "id": "6c520e2b-3522-47d1-aed6-f525d51d723f",
   "metadata": {},
   "outputs": [],
   "source": []
  },
  {
   "cell_type": "code",
   "execution_count": null,
   "id": "4a16e572-4f41-4414-bc9b-e0f1a3f61bc2",
   "metadata": {},
   "outputs": [],
   "source": []
  }
 ],
 "metadata": {
  "kernelspec": {
   "display_name": "Python 3 (ipykernel)",
   "language": "python",
   "name": "python3"
  },
  "language_info": {
   "codemirror_mode": {
    "name": "ipython",
    "version": 3
   },
   "file_extension": ".py",
   "mimetype": "text/x-python",
   "name": "python",
   "nbconvert_exporter": "python",
   "pygments_lexer": "ipython3",
   "version": "3.10.8"
  }
 },
 "nbformat": 4,
 "nbformat_minor": 5
}
