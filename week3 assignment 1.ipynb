{
 "cells": [
  {
   "cell_type": "markdown",
   "id": "0ffad388-14f3-4b29-9c55-3ba2b8993dec",
   "metadata": {},
   "source": [
    "Q1. Which keyword is used to create a function? Create a function to return a list of odd numbers in the\n",
    "range of 1 to 25. ans:"
   ]
  },
  {
   "cell_type": "markdown",
   "id": "5b078d34-a22b-4e2c-9cd1-0d88ef62bda0",
   "metadata": {},
   "source": [
    "The keyword used to create a function in most programming languages, including Python, is \"def\"."
   ]
  },
  {
   "cell_type": "code",
   "execution_count": 1,
   "id": "5d1308df-c5d0-4ea2-8738-4bcb22ec67bf",
   "metadata": {},
   "outputs": [],
   "source": [
    "def get_odd_numbers():\n",
    "    odd_numbers = []\n",
    "    for num in range(1, 26):\n",
    "        if num % 2 != 0:\n",
    "            odd_numbers.append(num)\n",
    "    return odd_numbers"
   ]
  },
  {
   "cell_type": "code",
   "execution_count": 3,
   "id": "853c8394-5a5d-49ee-ab76-ed61efb81893",
   "metadata": {},
   "outputs": [
    {
     "data": {
      "text/plain": [
       "[1, 3, 5, 7, 9, 11, 13, 15, 17, 19, 21, 23, 25]"
      ]
     },
     "execution_count": 3,
     "metadata": {},
     "output_type": "execute_result"
    }
   ],
   "source": [
    "get_odd_numbers()"
   ]
  },
  {
   "cell_type": "markdown",
   "id": "85cffc42-6f6b-48d8-af9f-8ea1b7f0dcee",
   "metadata": {},
   "source": [
    "Q2. Why *args and **kwargs is used in some functions? Create a function each for *args and **kwargs\n",
    "to demonstrate their use. ans:-\n",
    "When the function is called, all the positional arguments are collected into a tuple, which can be accessed within the function using the name *args. This is useful when you want to accept an arbitrary number of arguments without specifying them individually.\n",
    "When the function is called, the keyword arguments are collected into a dictionary, which can be accessed within the function using the name **kwargs. This is useful when you want to pass named arguments that may vary from function call to function call.\n"
   ]
  },
  {
   "cell_type": "code",
   "execution_count": 4,
   "id": "f106acab-4948-4bd9-8c5a-2954d241b1f9",
   "metadata": {},
   "outputs": [],
   "source": [
    "#example of *args\n",
    "def fun(*args):\n",
    "    return args\n"
   ]
  },
  {
   "cell_type": "code",
   "execution_count": 5,
   "id": "f1617133-3ba0-471a-8168-faa4c6dba5e3",
   "metadata": {},
   "outputs": [
    {
     "data": {
      "text/plain": [
       "(3, 4, 5, 6, 'harshit', True)"
      ]
     },
     "execution_count": 5,
     "metadata": {},
     "output_type": "execute_result"
    }
   ],
   "source": [
    "fun(3,4,5,6, \"harshit\",True)"
   ]
  },
  {
   "cell_type": "code",
   "execution_count": 6,
   "id": "290ec31c-fb2d-40d3-9b18-d40284bf63f3",
   "metadata": {},
   "outputs": [],
   "source": [
    "#example of **kwargs\n",
    "def test(**kwargs):\n",
    "    return kwargs\n",
    "    "
   ]
  },
  {
   "cell_type": "code",
   "execution_count": 7,
   "id": "436b0c47-ad83-4eaa-976b-7b0071ebac56",
   "metadata": {},
   "outputs": [
    {
     "data": {
      "text/plain": [
       "{'a': [2, 3, 4, 5], 'b': 45.6, 'c': 'hellow world'}"
      ]
     },
     "execution_count": 7,
     "metadata": {},
     "output_type": "execute_result"
    }
   ],
   "source": [
    "test(a = [2,3,4,5], b = 45.6, c = \"hellow world\")"
   ]
  },
  {
   "cell_type": "markdown",
   "id": "34a35095-0744-4c4c-b4cc-c172c0f06eb0",
   "metadata": {},
   "source": [
    "Q3. What is an iterator in python? Name the method used to initialise the iterator object and the method\n",
    "used for iteration. Use these methods to print the first five elements of the given list [2, 4, 6, 8, 10, 12, 14,\n",
    "16, 18, 20]."
   ]
  },
  {
   "cell_type": "markdown",
   "id": "69179b0d-8a04-4b95-a949-5438ac6e1f3c",
   "metadata": {},
   "source": [
    "ans:-  an iterator is an object that provides a sequence of values one at a time.\n",
    "       The '__iter__()' method returns the iterator object itself.\n",
    "       the method used for iteration by using for loop.\n",
    "    "
   ]
  },
  {
   "cell_type": "code",
   "execution_count": 8,
   "id": "e13f9835-04b1-40af-a897-1e45e1010c31",
   "metadata": {},
   "outputs": [],
   "source": [
    "l = [2, 4, 6, 8, 10, 12, 14,16, 18, 20]\n",
    "for i in l:\n",
    "    first_five = l[:5]"
   ]
  },
  {
   "cell_type": "code",
   "execution_count": 9,
   "id": "03aab1ac-12f1-4d78-91bb-8eaddb806927",
   "metadata": {},
   "outputs": [
    {
     "name": "stdout",
     "output_type": "stream",
     "text": [
      "[2, 4, 6, 8, 10]\n"
     ]
    }
   ],
   "source": [
    "print(first_five)"
   ]
  },
  {
   "cell_type": "markdown",
   "id": "8ee731dd-b369-4c1e-b677-c28d469f3ffb",
   "metadata": {},
   "source": [
    "Q4. What is a generator function in python? Why yield keyword is used? Give an example of a generator\n",
    "function."
   ]
  },
  {
   "cell_type": "markdown",
   "id": "58fbeaa1-a0d1-42f9-a082-a8005c47a7a5",
   "metadata": {},
   "source": [
    "ans:-  It allows you to define an iterator in a more concise and efficient manner compared to creating a separate class implementing the iterator protocol.it returns a generator object, which can be iterated over to retrieve values one at a time.\n",
    "The yield keyword is used in Python to define a generator function and control the generation of values in an iterable sequence.\n"
   ]
  },
  {
   "cell_type": "code",
   "execution_count": 10,
   "id": "d97ac06a-3786-470b-a9ac-e4acb80358c7",
   "metadata": {},
   "outputs": [],
   "source": [
    "def count_test(n):\n",
    "    count = 1\n",
    "    while count <= n:\n",
    "        yield count\n",
    "        count = count + 1"
   ]
  },
  {
   "cell_type": "code",
   "execution_count": 11,
   "id": "325caa00-85a9-41bf-9ab9-25e26e5fd1d4",
   "metadata": {},
   "outputs": [],
   "source": [
    "c = count_test(3)"
   ]
  },
  {
   "cell_type": "code",
   "execution_count": 12,
   "id": "d5da1ca3-c0e8-47df-b31e-955de975de2d",
   "metadata": {},
   "outputs": [
    {
     "data": {
      "text/plain": [
       "generator"
      ]
     },
     "execution_count": 12,
     "metadata": {},
     "output_type": "execute_result"
    }
   ],
   "source": [
    "type(c)"
   ]
  },
  {
   "cell_type": "code",
   "execution_count": 13,
   "id": "909493f8-39a2-43d9-ac9d-0d441cf65b2f",
   "metadata": {},
   "outputs": [
    {
     "name": "stdout",
     "output_type": "stream",
     "text": [
      "1\n",
      "2\n",
      "3\n"
     ]
    }
   ],
   "source": [
    "for i in c:\n",
    "    print(i)"
   ]
  },
  {
   "cell_type": "markdown",
   "id": "fc1e2dfc-ec5b-4cf8-a5e6-863149398f33",
   "metadata": {},
   "source": [
    "Q5. Create a generator function for prime numbers less than 1000. Use the next() method to print the\n",
    "first 20 prime numbers."
   ]
  },
  {
   "cell_type": "code",
   "execution_count": 1,
   "id": "c7c76eba-a78f-47af-822a-43261750ccc1",
   "metadata": {},
   "outputs": [
    {
     "name": "stdout",
     "output_type": "stream",
     "text": [
      "2\n",
      "3\n",
      "5\n",
      "7\n",
      "11\n",
      "13\n",
      "17\n",
      "19\n",
      "23\n",
      "29\n",
      "31\n",
      "37\n",
      "41\n",
      "43\n",
      "47\n",
      "53\n",
      "59\n",
      "61\n",
      "67\n",
      "71\n"
     ]
    }
   ],
   "source": [
    "def prime_generator():\n",
    "   \n",
    "    sieve = [True] * 1000\n",
    "    sieve[0] = sieve[1] = False \n",
    "\n",
    "    # Generate prime numbers using the Sieve of Eratosthenes algorithm\n",
    "    for num, is_prime in enumerate(sieve):\n",
    "        if is_prime:\n",
    "            yield num  # Yield the prime number\n",
    "            # Mark all multiples of the prime number as non-prime\n",
    "            for multiple in range(num * num, 1000, num):\n",
    "                sieve[multiple] = False\n",
    "\n",
    "# Use the generator to print the first 20 prime numbers\n",
    "prime_gen = prime_generator()\n",
    "for _ in range(20):\n",
    "    prime = next(prime_gen)\n",
    "    print(prime)\n",
    "               \n",
    "                 "
   ]
  },
  {
   "cell_type": "markdown",
   "id": "86e258b0-d02f-4729-88b6-49a94d52eff1",
   "metadata": {},
   "source": [
    "Q6. Write a python program to print the first 10 Fibonacci numbers using a while loop."
   ]
  },
  {
   "cell_type": "code",
   "execution_count": 3,
   "id": "af9d687b-1118-4678-ae02-40d0400807b0",
   "metadata": {},
   "outputs": [
    {
     "name": "stdin",
     "output_type": "stream",
     "text": [
      "enter your number 10\n"
     ]
    },
    {
     "name": "stdout",
     "output_type": "stream",
     "text": [
      "0\n",
      "1\n",
      "1\n",
      "2\n",
      "3\n",
      "5\n",
      "8\n",
      "13\n",
      "21\n",
      "34\n"
     ]
    }
   ],
   "source": [
    "n = int(input(\"enter your number\"))\n",
    "x = 0\n",
    "y= 1\n",
    "counter = 0\n",
    "while counter<n:\n",
    "    print(x)\n",
    "    z = x+y\n",
    "    x=y\n",
    "    y=z\n",
    "    counter = counter+1\n",
    "    "
   ]
  },
  {
   "cell_type": "markdown",
   "id": "24f6553b-e5d3-4b23-aed4-c5ac69f26023",
   "metadata": {},
   "source": [
    "Q7. Write a List Comprehension to iterate through the given string: ‘pwskills’.\n",
    "\n",
    "Expected output: ['p', 'w', 's', 'k', 'i', 'l', 'l', 's']"
   ]
  },
  {
   "cell_type": "code",
   "execution_count": 5,
   "id": "cdae6a01-6162-48f5-b629-b682e61d9819",
   "metadata": {},
   "outputs": [],
   "source": [
    "s = \"pwskills\"\n"
   ]
  },
  {
   "cell_type": "code",
   "execution_count": 9,
   "id": "1d114d71-6091-4768-815f-619d0cbed30f",
   "metadata": {},
   "outputs": [
    {
     "data": {
      "text/plain": [
       "['p', 'w', 's', 'k', 'i', 'l', 'l', 's']"
      ]
     },
     "execution_count": 9,
     "metadata": {},
     "output_type": "execute_result"
    }
   ],
   "source": [
    "[i for i in s]"
   ]
  },
  {
   "cell_type": "markdown",
   "id": "1b5a2fc1-55ea-42a3-9815-85ec894db87d",
   "metadata": {},
   "source": [
    "Q8. Write a python program to check whether a given number is Palindrome or not using a while loop"
   ]
  },
  {
   "cell_type": "code",
   "execution_count": 32,
   "id": "92e119c5-58d2-4802-9d45-c32989b1e047",
   "metadata": {},
   "outputs": [],
   "source": [
    "def palindrome_fun():\n",
    "    \n",
    "    num = int(input(\"enter number:\")) \n",
    "    rev= 0\n",
    "    x = num\n",
    "    while num>0:\n",
    "        rev = (rev*10)+ num%10\n",
    "        num = num//10\n",
    "        \n",
    "    if x==rev:\n",
    "        print(f\"{x} is a palindrome.\")\n",
    "    else:\n",
    "        print(f\"{x} is not a palindrome.\")\n"
   ]
  },
  {
   "cell_type": "code",
   "execution_count": 35,
   "id": "23d68f14-91ec-409b-b3e8-10cc67ac0e30",
   "metadata": {},
   "outputs": [
    {
     "name": "stdin",
     "output_type": "stream",
     "text": [
      "enter number: 456\n"
     ]
    },
    {
     "name": "stdout",
     "output_type": "stream",
     "text": [
      "456 is not a palindrome.\n"
     ]
    }
   ],
   "source": [
    "palindrome_fun()\n"
   ]
  },
  {
   "cell_type": "markdown",
   "id": "865b61c9-fd9e-4130-b436-0b31198d4ec6",
   "metadata": {},
   "source": [
    "Q.9 Write a code to print odd numbers from 1 to 100 using list comprehension.\n"
   ]
  },
  {
   "cell_type": "code",
   "execution_count": 39,
   "id": "d36da004-1399-4de3-a4cb-c3d5d650e43e",
   "metadata": {},
   "outputs": [],
   "source": [
    "l1 = list(range(1,101)) "
   ]
  },
  {
   "cell_type": "code",
   "execution_count": 42,
   "id": "887e6e12-c6d0-40dd-9780-2fbaf059dbfa",
   "metadata": {},
   "outputs": [
    {
     "data": {
      "text/plain": [
       "[1,\n",
       " 3,\n",
       " 5,\n",
       " 7,\n",
       " 9,\n",
       " 11,\n",
       " 13,\n",
       " 15,\n",
       " 17,\n",
       " 19,\n",
       " 21,\n",
       " 23,\n",
       " 25,\n",
       " 27,\n",
       " 29,\n",
       " 31,\n",
       " 33,\n",
       " 35,\n",
       " 37,\n",
       " 39,\n",
       " 41,\n",
       " 43,\n",
       " 45,\n",
       " 47,\n",
       " 49,\n",
       " 51,\n",
       " 53,\n",
       " 55,\n",
       " 57,\n",
       " 59,\n",
       " 61,\n",
       " 63,\n",
       " 65,\n",
       " 67,\n",
       " 69,\n",
       " 71,\n",
       " 73,\n",
       " 75,\n",
       " 77,\n",
       " 79,\n",
       " 81,\n",
       " 83,\n",
       " 85,\n",
       " 87,\n",
       " 89,\n",
       " 91,\n",
       " 93,\n",
       " 95,\n",
       " 97,\n",
       " 99]"
      ]
     },
     "execution_count": 42,
     "metadata": {},
     "output_type": "execute_result"
    }
   ],
   "source": [
    "[i for i in range(1,101) if i%2 != 0]"
   ]
  },
  {
   "cell_type": "code",
   "execution_count": null,
   "id": "29d473e2-ce14-403e-9d73-d2d565d205d2",
   "metadata": {},
   "outputs": [],
   "source": []
  }
 ],
 "metadata": {
  "kernelspec": {
   "display_name": "Python 3 (ipykernel)",
   "language": "python",
   "name": "python3"
  },
  "language_info": {
   "codemirror_mode": {
    "name": "ipython",
    "version": 3
   },
   "file_extension": ".py",
   "mimetype": "text/x-python",
   "name": "python",
   "nbconvert_exporter": "python",
   "pygments_lexer": "ipython3",
   "version": "3.10.8"
  }
 },
 "nbformat": 4,
 "nbformat_minor": 5
}
