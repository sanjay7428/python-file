{
 "cells": [
  {
   "cell_type": "markdown",
   "id": "b5eade7b-7145-4013-9174-0c4ae917033a",
   "metadata": {},
   "source": [
    "Q1. Create a python program to sort the given list of tuples based on integer value using a\n",
    "lambda function.\n",
    "\n",
    "[('Sachin Tendulkar', 34357), ('Ricky Ponting', 27483), ('Jack Kallis', 25534), ('Virat Kohli', 24936)]"
   ]
  },
  {
   "cell_type": "code",
   "execution_count": 1,
   "id": "4a3b0afb-8511-4db3-801c-3ed6605d04c5",
   "metadata": {},
   "outputs": [],
   "source": [
    "l = [('Sachin Tendulkar', 34357), ('Ricky Ponting', 27483), ('Jack Kallis', 25534), ('Virat Kohli', 24936)]"
   ]
  },
  {
   "cell_type": "code",
   "execution_count": 10,
   "id": "9992398a-76f4-49ea-a5ac-b06149ac515f",
   "metadata": {},
   "outputs": [],
   "source": [
    "sort_players = sorted(l, key=lambda x: x[1])"
   ]
  },
  {
   "cell_type": "code",
   "execution_count": 15,
   "id": "67a1b1b4-2356-455f-9bc6-33ecf2b90a29",
   "metadata": {},
   "outputs": [
    {
     "name": "stdout",
     "output_type": "stream",
     "text": [
      "[('Virat Kohli', 24936), ('Jack Kallis', 25534), ('Ricky Ponting', 27483), ('Sachin Tendulkar', 34357)]\n"
     ]
    }
   ],
   "source": [
    "print(sort_players)"
   ]
  },
  {
   "cell_type": "markdown",
   "id": "0da26065-b7be-4d55-af9f-0447efa47690",
   "metadata": {},
   "source": [
    "Q2. Write a Python Program to find the squares of all the numbers in the given list of integers using\n",
    "lambda and map functions.\n",
    "\n",
    "\n",
    "[1, 2, 3, 4, 5, 6, 7, 8, 9, 10]"
   ]
  },
  {
   "cell_type": "code",
   "execution_count": 16,
   "id": "69d6920b-c659-438e-b457-093eb665887b",
   "metadata": {},
   "outputs": [],
   "source": [
    "sq = [1, 2, 3, 4, 5, 6, 7, 8, 9, 10]"
   ]
  },
  {
   "cell_type": "code",
   "execution_count": 20,
   "id": "4f8aa127-698c-4b69-8860-50a7789a8f1a",
   "metadata": {},
   "outputs": [
    {
     "data": {
      "text/plain": [
       "[1, 4, 9, 16, 25, 36, 49, 64, 81, 100]"
      ]
     },
     "execution_count": 20,
     "metadata": {},
     "output_type": "execute_result"
    }
   ],
   "source": [
    "list(map(lambda x : x**2, sq))"
   ]
  },
  {
   "cell_type": "markdown",
   "id": "7fa6cca2-3884-4826-8192-8add53ee7227",
   "metadata": {},
   "source": [
    "Q3. Write a python program to convert the given list of integers into a tuple of strings. Use map and\n",
    "lambda functions\n",
    "\n",
    "\n",
    "Given String: [1, 2, 3, 4, 5, 6, 7, 8, 9, 10]\n",
    "\n",
    "Expected output: ('1', '2', '3', '4', '5', '6', '7', '8', '9', '10')"
   ]
  },
  {
   "cell_type": "code",
   "execution_count": 22,
   "id": "c7e4d504-5072-4328-bd1d-78ef2ff7f9ed",
   "metadata": {},
   "outputs": [],
   "source": [
    "st =  [1, 2, 3, 4, 5, 6, 7, 8, 9, 10]"
   ]
  },
  {
   "cell_type": "code",
   "execution_count": 23,
   "id": "6caa6a3c-d86f-4318-bc09-f047a03ebe49",
   "metadata": {},
   "outputs": [
    {
     "data": {
      "text/plain": [
       "['1', '2', '3', '4', '5', '6', '7', '8', '9', '10']"
      ]
     },
     "execution_count": 23,
     "metadata": {},
     "output_type": "execute_result"
    }
   ],
   "source": [
    "list(map(lambda x : str(x),st))"
   ]
  },
  {
   "cell_type": "markdown",
   "id": "d1964272-70e1-47b2-9a66-baea9864b578",
   "metadata": {},
   "source": [
    "Q4. Write a python program using reduce function to compute the product of a list containing numbers\n",
    "from 1 to 25."
   ]
  },
  {
   "cell_type": "code",
   "execution_count": 24,
   "id": "d0b25b76-5843-4a06-b70f-4582358c2150",
   "metadata": {},
   "outputs": [],
   "source": [
    "l1 = list(range(1,26))"
   ]
  },
  {
   "cell_type": "code",
   "execution_count": 26,
   "id": "217563c2-0929-4389-a387-114fc10cc098",
   "metadata": {},
   "outputs": [],
   "source": [
    "from functools import reduce"
   ]
  },
  {
   "cell_type": "code",
   "execution_count": 28,
   "id": "b805ca3c-5ff0-472d-8b9e-4f7b16de048d",
   "metadata": {},
   "outputs": [
    {
     "data": {
      "text/plain": [
       "15511210043330985984000000"
      ]
     },
     "execution_count": 28,
     "metadata": {},
     "output_type": "execute_result"
    }
   ],
   "source": [
    "reduce(lambda x,y : x*y, l1)"
   ]
  },
  {
   "cell_type": "markdown",
   "id": "b8bd5ba4-656d-402e-b093-d0e3587d0611",
   "metadata": {},
   "source": [
    "Q5. Write a python program to filter the numbers in a given list that are divisible by 2 and 3 using the\n",
    "filter function.\n",
    "\n",
    "\n",
    "[2, 3, 6, 9, 27, 60, 90, 120, 55, 46]"
   ]
  },
  {
   "cell_type": "code",
   "execution_count": 29,
   "id": "ffbcd18b-d02e-4c74-93aa-4a418b19ff6f",
   "metadata": {},
   "outputs": [],
   "source": [
    "l2 = [2, 3, 6, 9, 27, 60, 90, 120, 55, 46]"
   ]
  },
  {
   "cell_type": "code",
   "execution_count": 32,
   "id": "3f68c4fb-2cdd-4da3-91d6-3b3957e26dc4",
   "metadata": {},
   "outputs": [
    {
     "data": {
      "text/plain": [
       "[2, 6, 60, 90, 120, 46]"
      ]
     },
     "execution_count": 32,
     "metadata": {},
     "output_type": "execute_result"
    }
   ],
   "source": [
    "list(filter(lambda x : x%2==0, l2))"
   ]
  },
  {
   "cell_type": "code",
   "execution_count": 33,
   "id": "6c1657a2-12e1-4c0c-b8ea-1ce11a2e0f08",
   "metadata": {},
   "outputs": [
    {
     "data": {
      "text/plain": [
       "[3, 6, 9, 27, 60, 90, 120]"
      ]
     },
     "execution_count": 33,
     "metadata": {},
     "output_type": "execute_result"
    }
   ],
   "source": [
    "list(filter(lambda y : y%3==0 ,l2)) "
   ]
  },
  {
   "cell_type": "markdown",
   "id": "3dad0fe9-4233-42b8-836b-c942fc1d3b62",
   "metadata": {},
   "source": [
    "Q6. Write a python program to find palindromes in the given list of strings using lambda and filter\n",
    "function.\n",
    "\n",
    "\n",
    "['python', 'php', 'aba', 'radar', 'level']"
   ]
  },
  {
   "cell_type": "code",
   "execution_count": 35,
   "id": "f33bd92e-2186-4667-9a7c-0c235a1b8289",
   "metadata": {},
   "outputs": [],
   "source": [
    "l3 = ['python', 'php', 'aba', 'radar', 'level']"
   ]
  },
  {
   "cell_type": "code",
   "execution_count": 37,
   "id": "d68d3437-ad61-4618-b6a2-a1572ce91b45",
   "metadata": {},
   "outputs": [
    {
     "data": {
      "text/plain": [
       "['php', 'aba', 'radar', 'level']"
      ]
     },
     "execution_count": 37,
     "metadata": {},
     "output_type": "execute_result"
    }
   ],
   "source": [
    "list(filter(lambda word : word == word[::-1],l3 )) "
   ]
  },
  {
   "cell_type": "code",
   "execution_count": null,
   "id": "da8c0afd-1ff1-4794-b8e3-c5c2c79002af",
   "metadata": {},
   "outputs": [],
   "source": []
  }
 ],
 "metadata": {
  "kernelspec": {
   "display_name": "Python 3 (ipykernel)",
   "language": "python",
   "name": "python3"
  },
  "language_info": {
   "codemirror_mode": {
    "name": "ipython",
    "version": 3
   },
   "file_extension": ".py",
   "mimetype": "text/x-python",
   "name": "python",
   "nbconvert_exporter": "python",
   "pygments_lexer": "ipython3",
   "version": "3.10.8"
  }
 },
 "nbformat": 4,
 "nbformat_minor": 5
}
