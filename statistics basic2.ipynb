{
 "cells": [
  {
   "cell_type": "markdown",
   "id": "10a4c1c3-d39b-42fd-8d34-de44e8d99a83",
   "metadata": {},
   "source": [
    "Q1. What are the three measures of central tendency?"
   ]
  },
  {
   "cell_type": "markdown",
   "id": "ced27317-93b8-45c2-9e8b-6820bbb13e6b",
   "metadata": {},
   "source": [
    "Ans. 1.Mean or Average\n",
    "     2.Median\n",
    "     3.Mode"
   ]
  },
  {
   "cell_type": "markdown",
   "id": "e5cccc83-0f63-41cc-9710-9391e1f2c1b7",
   "metadata": {},
   "source": [
    "Q2. What is the difference between the mean, median, and mode? How are they used to measure the\n",
    "central tendency of a dataset?"
   ]
  },
  {
   "cell_type": "markdown",
   "id": "a24ed332-11bf-47a5-85df-18376fc170e7",
   "metadata": {},
   "source": [
    "Ans. Mean:\n",
    "\n",
    "Definition: The mean is the arithmetic average of all values in a dataset. It is calculated by summing up all values and dividing by the total number of values.\n",
    "Calculation: Mean = (Sum of all values) / (Number of values)\n",
    "Use: The mean is sensitive to outliers and extreme values because it takes into account the magnitude of all values. It is widely used when the distribution of data is approximately symmetric.\n",
    "Median:\n",
    "\n",
    "Definition: The median is the middle value of a dataset when the values are arranged in ascending or descending order. If the dataset has an odd number of values, the median is the middle value. If the dataset has an even number of values, the median is the average of the two middle values.\n",
    "Calculation: For an odd number of values, the median is the middle value. For an even number of values, the median is the average of the two middle values.\n",
    "Use: The median is robust to outliers and extreme values because it is not affected by the magnitude of values but rather their order. It is often used when the distribution of data is skewed or when there are outliers present.\n",
    "Mode:\n",
    "\n",
    "Definition: The mode is the value that occurs most frequently in a dataset. A dataset can have one mode (unimodal), multiple modes (multimodal), or no mode (no value occurs more than once).\n",
    "Calculation: The mode is simply the value with the highest frequency.\n",
    "Use: The mode is useful for identifying the most common or typical value in a dataset, especially for categorical or nominal data. It can also be used for numerical data, although it may not always provide a meaningful representation of central tendency."
   ]
  },
  {
   "cell_type": "markdown",
   "id": "f2ad9bb5-0a02-4c37-ad6c-9f0fad8a2a1e",
   "metadata": {},
   "source": [
    "Q3. Measure the three measures of central tendency for the given height data:\n",
    "[178,177,176,177,178.2,178,175,179,180,175,178.9,176.2,177,172.5,178,176.5]"
   ]
  },
  {
   "cell_type": "code",
   "execution_count": 4,
   "id": "5e739eaf-7afd-460e-a256-15bfab90d0ab",
   "metadata": {},
   "outputs": [],
   "source": [
    "#Ans.  \n",
    "import numpy as np\n",
    "l = [178,177,176,177,178.2,178,175,179,180,175,178.9,176.2,177,172.5,178,176.5]"
   ]
  },
  {
   "cell_type": "code",
   "execution_count": 5,
   "id": "0dbd2861-cf82-4f73-9708-01467baba1a9",
   "metadata": {},
   "outputs": [
    {
     "data": {
      "text/plain": [
       "177.01875"
      ]
     },
     "execution_count": 5,
     "metadata": {},
     "output_type": "execute_result"
    }
   ],
   "source": [
    "np.mean(l)"
   ]
  },
  {
   "cell_type": "code",
   "execution_count": 6,
   "id": "f99b6668-9bab-4284-a646-9bfa2050101a",
   "metadata": {},
   "outputs": [
    {
     "data": {
      "text/plain": [
       "177.0"
      ]
     },
     "execution_count": 6,
     "metadata": {},
     "output_type": "execute_result"
    }
   ],
   "source": [
    "np.median(l)"
   ]
  },
  {
   "cell_type": "code",
   "execution_count": 9,
   "id": "26d36655-e160-4a7b-be45-14fa8224b925",
   "metadata": {},
   "outputs": [
    {
     "name": "stderr",
     "output_type": "stream",
     "text": [
      "/tmp/ipykernel_172/3491401086.py:2: FutureWarning: Unlike other reduction functions (e.g. `skew`, `kurtosis`), the default behavior of `mode` typically preserves the axis it acts along. In SciPy 1.11.0, this behavior will change: the default value of `keepdims` will become False, the `axis` over which the statistic is taken will be eliminated, and the value None will no longer be accepted. Set `keepdims` to True or False to avoid this warning.\n",
      "  stats.mode(l)\n"
     ]
    },
    {
     "data": {
      "text/plain": [
       "ModeResult(mode=array([177.]), count=array([3]))"
      ]
     },
     "execution_count": 9,
     "metadata": {},
     "output_type": "execute_result"
    }
   ],
   "source": [
    "from scipy import stats\n",
    "stats.mode(l)"
   ]
  },
  {
   "cell_type": "markdown",
   "id": "24cda10d-666b-42d6-915c-a8c3d7688679",
   "metadata": {},
   "source": [
    "Q4. Find the standard deviation for the given data:\n",
    "[178,177,176,177,178.2,178,175,179,180,175,178.9,176.2,177,172.5,178,176.5]"
   ]
  },
  {
   "cell_type": "code",
   "execution_count": 10,
   "id": "6d69ce0e-ce44-4526-8247-c2f955c5ba8b",
   "metadata": {},
   "outputs": [],
   "source": [
    "#Ans\n",
    "l2=[178,177,176,177,178.2,178,175,179,180,175,178.9,176.2,177,172.5,178,176.5]"
   ]
  },
  {
   "cell_type": "code",
   "execution_count": 11,
   "id": "73e88192-d302-4687-9941-d9e557e1460f",
   "metadata": {},
   "outputs": [
    {
     "data": {
      "text/plain": [
       "1.7885814036548633"
      ]
     },
     "execution_count": 11,
     "metadata": {},
     "output_type": "execute_result"
    }
   ],
   "source": [
    "np.std(l2)"
   ]
  },
  {
   "cell_type": "markdown",
   "id": "f1a6c379-8053-4da8-9b2a-e9c23ebf1b4e",
   "metadata": {},
   "source": [
    "Q5. How are measures of dispersion such as range, variance, and standard deviation used to describe\n",
    "the spread of a dataset? Provide an example."
   ]
  },
  {
   "cell_type": "markdown",
   "id": "ca5378ea-25f0-4ac7-b50d-97146514ed28",
   "metadata": {},
   "source": [
    "Ans. Range:\n",
    "\n",
    "Definition: The range is the simplest measure of dispersion and is calculated as the difference between the maximum and minimum values in the dataset.\n",
    "Calculation: Range = Maximum value - Minimum value\n",
    "Use: The range gives an indication of the spread of the dataset from the lowest to the highest value. However, it is sensitive to outliers and may not provide a comprehensive measure of variability.\n",
    "Example: Consider a dataset of exam scores: 70, 75, 80, 85, 90. The range is 90 - 70 = 20, indicating that the scores range from 70 to 90.\n",
    "Variance:\n",
    "\n",
    "Definition: Variance measures the average squared deviation of each data point from the mean of the dataset.\n",
    "\n",
    "Calculation: Variance = Σ((x - μ)^2) / n, where x represents each data point, μ represents the mean, and n represents the number of data points.\n",
    "\n",
    "Use: Variance quantifies the spread of data points around the mean. A larger variance indicates greater variability in the dataset.\n",
    "\n",
    "Example: Using the same dataset of exam scores: 70, 75, 80, 85, 90. Let's calculate the variance:\n",
    "\n",
    "Mean (μ) = (70 + 75 + 80 + 85 + 90) / 5 = 80\n",
    "Variance = [(70 - 80)^2 + (75 - 80)^2 + (80 - 80)^2 + (85 - 80)^2 + (90 - 80)^2] / 5\n",
    "= [(100) + (25) + (0) + (25) + (100)] / 5\n",
    "= 50\n",
    "So, the variance is 50.\n",
    "\n",
    "Standard Deviation:\n",
    "\n",
    "Definition: Standard deviation is the square root of the variance and provides a measure of the average deviation of data points from the mean.\n",
    "Calculation: Standard deviation = √Variance\n",
    "Use: Standard deviation is widely used because it provides a measure of dispersion in the same units as the original data. It indicates the typical distance of data points from the mean.\n",
    "Example: Using the same dataset of exam scores, the variance is 50. Therefore, the standard deviation is √50 ≈ 7.07."
   ]
  },
  {
   "cell_type": "markdown",
   "id": "56f111c8-bb50-4f74-ade2-59b8a43cae65",
   "metadata": {},
   "source": [
    "Q6. What is a Venn diagram?"
   ]
  },
  {
   "cell_type": "markdown",
   "id": "778b0ee4-0b8f-4359-b35f-aafc67ff9a0a",
   "metadata": {},
   "source": [
    "Ans. A Venn diagram is a visual representation used to illustrate the relationships between different sets or groups of items. It consists of overlapping circles or other shapes, with each circle representing a set and the overlapping areas representing the intersection between sets."
   ]
  },
  {
   "cell_type": "markdown",
   "id": "5cc65f66-f52c-4d57-be7d-78eb92c28ce9",
   "metadata": {},
   "source": [
    "Q7. For the two given sets A = (2,3,4,5,6,7) & B = (0,2,6,8,10). Find:\n",
    "(i) A B\n",
    "(ii) A ⋃ B"
   ]
  },
  {
   "cell_type": "markdown",
   "id": "59ccb17e-09ca-49c7-9fe6-9099c9279822",
   "metadata": {},
   "source": [
    "Ans. A intersection B = {2,6}\n",
    "     A union B = {0,2,3,4,5,6,7,8,10}"
   ]
  },
  {
   "cell_type": "markdown",
   "id": "f99cc667-47c2-490e-af86-8e059eb42808",
   "metadata": {},
   "source": [
    "Q8. What do you understand about skewness in data?"
   ]
  },
  {
   "cell_type": "markdown",
   "id": "614bc2d5-422e-449e-923e-da4b54a890d5",
   "metadata": {},
   "source": [
    "Positive Skewness (Right Skewness):\n",
    "\n",
    "In a positively skewed distribution, the tail of the distribution extends towards the right side (higher values) of the mean.\n",
    "The majority of the data points are concentrated on the left side (lower values) of the mean.\n",
    "The mean is typically greater than the median.\n",
    "It is also known as right skewness because the tail of the distribution is stretched towards the right.\n",
    "Negative Skewness (Left Skewness):\n",
    "\n",
    "In a negatively skewed distribution, the tail of the distribution extends towards the left side (lower values) of the mean.\n",
    "The majority of the data points are concentrated on the right side (higher values) of the mean.\n",
    "The mean is typically less than the median.\n",
    "It is also known as left skewness because the tail of the distribution is stretched towards the left.\n",
    "Zero Skewness:\n",
    "\n",
    "A distribution is considered symmetric or approximately symmetric if it has zero skewness.\n",
    "In a symmetric distribution, the mean, median, and mode are all equal, and the data points are evenly distributed around the mean."
   ]
  },
  {
   "cell_type": "markdown",
   "id": "5442b34f-3279-4637-9eb8-b528205cfe6e",
   "metadata": {},
   "source": [
    "Q9. If a data is right skewed then what will be the position of median with respect to mean?"
   ]
  },
  {
   "cell_type": "markdown",
   "id": "b690dc63-983c-477d-b7c7-2ee57dea56a5",
   "metadata": {},
   "source": [
    "\n",
    "In a right-skewed distribution, the tail of the distribution extends towards higher values, meaning that there are more extreme values on the right side of the distribution. As a result:\n",
    "\n",
    "The Mean: The mean will be greater than the median. This is because the mean is influenced by extreme values or outliers, and in a right-skewed distribution, the presence of higher values pulls the mean towards the right.\n",
    "\n",
    "The Median: The median will be positioned to the left of the mean. Since the median represents the middle value of the dataset when it is ordered from smallest to largest, it is less affected by extreme values compared to the mean. Therefore, in a right-skewed distribution, where extreme values are concentrated on the right side, the median will be closer to the lower end of the distribution, to the left of the mean."
   ]
  },
  {
   "cell_type": "markdown",
   "id": "63f364ea-ec84-4c88-86ed-0163233dcf48",
   "metadata": {},
   "source": [
    "Q10. Explain the difference between covariance and correlation. How are these measures used in\n",
    "statistical analysis?"
   ]
  },
  {
   "cell_type": "markdown",
   "id": "454524bb-27f7-47b0-9d59-9ed4c1e55ddb",
   "metadata": {},
   "source": [
    "Covariance:\n",
    "\n",
    "Covariance measures the degree to which two variables vary together. It quantifies the extent to which changes in one variable correspond to changes in another variable.\n",
    "Covariance can take on any value, positive, negative, or zero. A positive covariance indicates that the two variables tend to move in the same direction, while a negative covariance indicates that they tend to move in opposite directions. A covariance of zero indicates no linear relationship between the variables.\n",
    "However, the magnitude of covariance is not standardized and can vary depending on the scale of the variables. Therefore, it is difficult to interpret the strength of the relationship based on covariance alone.\n",
    "Correlation:\n",
    "\n",
    "Correlation is a standardized measure of the linear relationship between two variables. It represents the strength and direction of the linear association between variables.\n",
    "Correlation coefficients range between -1 and 1. A correlation coefficient of +1 indicates a perfect positive linear relationship, a correlation coefficient of -1 indicates a perfect negative linear relationship, and a correlation coefficient of 0 indicates no linear relationship.\n",
    "Unlike covariance, correlation coefficients are standardized, making them easier to interpret. They provide information about the strength and direction of the relationship between variables, regardless of the scale of the variables.\n",
    "In statistical analysis:\n",
    "\n",
    "Covariance is often used to initially assess the relationship between two variables and determine whether there is any association between them. However, due to its lack of standardization, covariance alone may not provide a clear indication of the strength or direction of the relationship."
   ]
  },
  {
   "cell_type": "markdown",
   "id": "ca28b35d-20b2-4004-8f88-fcf8adaf22fc",
   "metadata": {},
   "source": [
    "Q11. What is the formula for calculating the sample mean? Provide an example calculation for a\n",
    "dataset."
   ]
  },
  {
   "cell_type": "markdown",
   "id": "a1282942-b695-4c72-8336-57db2fe3ecca",
   "metadata": {},
   "source": [
    "Ans. \n",
    "The sample mean, denoted by \n",
    "�\n",
    "ˉ\n",
    "x\n",
    "ˉ\n",
    " , is the average value of a dataset. It is calculated by summing up all the values in the dataset and then dividing by the total number of values in the dataset \n",
    "�\n",
    "n.\n",
    "\n",
    "The formula for calculating the sample mean is:\n",
    "\n",
    "�\n",
    "ˉ\n",
    "=\n",
    "∑\n",
    "�\n",
    "=\n",
    "1\n",
    "�\n",
    "�\n",
    "�\n",
    "�\n",
    "x\n",
    "ˉ\n",
    " = \n",
    "n\n",
    "∑ \n",
    "i=1\n",
    "n\n",
    "​\n",
    " x \n",
    "i\n",
    "​\n",
    " \n",
    "​\n",
    " \n",
    "\n",
    "Where:\n",
    "\n",
    "�\n",
    "ˉ\n",
    "x\n",
    "ˉ\n",
    "  is the sample mean,\n",
    "�\n",
    "�\n",
    "x \n",
    "i\n",
    "​\n",
    "  represents each individual value in the dataset, and\n",
    "�\n",
    "n is the total number of values in the dataset.\n",
    "Here's an example calculation for a dataset:\n",
    "\n",
    "Dataset: 10, 15, 20, 25, 30\n",
    "\n",
    "Calculation:\n",
    "�\n",
    "ˉ\n",
    "=\n",
    "10\n",
    "+\n",
    "15\n",
    "+\n",
    "20\n",
    "+\n",
    "25\n",
    "+\n",
    "30\n",
    "5\n",
    "x\n",
    "ˉ\n",
    " = \n",
    "5\n",
    "10+15+20+25+30\n",
    "​\n",
    " \n",
    "�\n",
    "ˉ\n",
    "=\n",
    "100\n",
    "5\n",
    "x\n",
    "ˉ\n",
    " = \n",
    "5\n",
    "100\n",
    "​\n",
    " \n",
    "�\n",
    "ˉ\n",
    "=\n",
    "20\n",
    "x\n",
    "ˉ\n",
    " =20"
   ]
  },
  {
   "cell_type": "markdown",
   "id": "4822b48c-300d-4073-83a5-5f6d9450a11e",
   "metadata": {},
   "source": [
    "Q12. For a normal distribution data what is the relationship between its measure of central tendency?"
   ]
  },
  {
   "cell_type": "markdown",
   "id": "198bd4e1-469b-45c1-b06c-3f2407dcae4f",
   "metadata": {},
   "source": [
    "Mean (μ):\n",
    "\n",
    "In a normal distribution, the mean (μ) is located at the center of the distribution. It is the balance point of the distribution and represents the arithmetic average of all data points.\n",
    "The mean is equal to the median, which is also located at the center of the distribution in a normal distribution.\n",
    "Therefore, in a normal distribution, the mean is equal to the median.\n",
    "Median:\n",
    "\n",
    "As mentioned above, the median of a normal distribution is equal to its mean. It represents the middle value of the dataset when arranged in ascending or descending order.\n",
    "In a perfectly symmetric normal distribution, the median is located exactly at the center of the distribution, where the distribution is also at its peak.\n",
    "Mode:\n",
    "\n",
    "In a normal distribution, the mode (M) is also equal to the mean and the median.\n",
    "The mode represents the most frequent value or peak of the distribution. In a normal distribution, where the distribution is symmetric, the mode is located at the same point as the mean and median, which is the center of the distribution."
   ]
  },
  {
   "cell_type": "markdown",
   "id": "65bafd70-6444-4f0c-8436-eb2ed01b19b9",
   "metadata": {},
   "source": [
    "Q13. How is covariance different from correlation?"
   ]
  },
  {
   "cell_type": "markdown",
   "id": "cdcda8ec-bac9-479c-b3e6-e4fa48c6c0a0",
   "metadata": {},
   "source": [
    "Covariance:\n",
    "\n",
    "Covariance measures the degree to which two variables vary together. It quantifies the extent to which changes in one variable correspond to changes in another variable.\n",
    "Covariance can take on any value, positive, negative, or zero. A positive covariance indicates that the two variables tend to move in the same direction, while a negative covariance indicates that they tend to move in opposite directions. A covariance of zero indicates no linear relationship between the variables.\n",
    "However, the magnitude of covariance is not standardized and can vary depending on the scale of the variables. Therefore, it is difficult to interpret the strength of the relationship based on covariance alone.\n",
    "\n",
    "\n",
    "Correlation:\n",
    "\n",
    "Correlation is a standardized measure of the linear relationship between two variables. It represents the strength and direction of the linear association between variables.\n",
    "Correlation coefficients range between -1 and 1. A correlation coefficient of +1 indicates a perfect positive linear relationship, a correlation coefficient of -1 indicates a perfect negative linear relationship, and a correlation coefficient of 0 indicates no linear relationship.\n",
    "Unlike covariance, correlation coefficients are standardized, making them easier to interpret. They provide information about the strength and direction of the relationship between variables, regardless of the scale of the variables."
   ]
  },
  {
   "cell_type": "markdown",
   "id": "86111ec8-583d-4481-8fed-f818b58e6ee8",
   "metadata": {},
   "source": [
    "Q14. How do outliers affect measures of central tendency and dispersion? Provide an example."
   ]
  },
  {
   "cell_type": "markdown",
   "id": "56f584b0-65cd-43ef-b2fe-d17d1a7f3286",
   "metadata": {},
   "source": [
    "Measures of Central Tendency:\n",
    "\n",
    "Outliers can distort measures of central tendency, such as the mean, median, and mode.\n",
    "The mean is particularly sensitive to outliers because it takes into account the magnitude of all values. A single extreme value can significantly pull the mean towards it, making it unrepresentative of the typical value of the dataset.\n",
    "The median, on the other hand, is less affected by outliers since it represents the middle value when the data is sorted. However, in datasets with extreme outliers, the median may still be influenced, especially if the outliers are numerous.\n",
    "The mode may not be directly affected by outliers, as it represents the most frequent value(s) in the dataset. However, in skewed distributions or datasets with multiple modes, outliers can alter the mode(s).\n",
    "\n",
    "\n",
    "Measures of Dispersion:\n",
    "\n",
    "Outliers can also impact measures of dispersion, such as the range, variance, and standard deviation.\n",
    "The range, which measures the difference between the maximum and minimum values, can be greatly influenced by outliers, especially if they are extreme.\n",
    "Variance and standard deviation, which quantify the spread of data around the mean, can be inflated by outliers, particularly if they are far from the mean. Outliers increase the squared differences between data points and the mean, leading to larger variance and standard deviation values.\n",
    "Example:\n",
    "Consider a dataset of exam scores: 70, 75, 80, 85, 90, 120.\n",
    "\n",
    "Without the outlier (120), the mean score would be: (70 + 75 + 80 + 85 + 90) / 5 = 80.\n",
    "With the outlier included, the mean becomes: (70 + 75 + 80 + 85 + 90 + 120) / 6 = 86.67.\n",
    "The median, however, remains the same with or without the outlier: 80.\n",
    "The range is significantly affected by the outlier, increasing from 50 to 120.\n",
    "The variance and standard deviation are also impacted, increasing due to the presence of the outlier, indicating greater variability in the dataset."
   ]
  },
  {
   "cell_type": "code",
   "execution_count": null,
   "id": "360ab93e-80aa-4a32-a7eb-2dfe8a77dd38",
   "metadata": {},
   "outputs": [],
   "source": []
  }
 ],
 "metadata": {
  "kernelspec": {
   "display_name": "Python 3 (ipykernel)",
   "language": "python",
   "name": "python3"
  },
  "language_info": {
   "codemirror_mode": {
    "name": "ipython",
    "version": 3
   },
   "file_extension": ".py",
   "mimetype": "text/x-python",
   "name": "python",
   "nbconvert_exporter": "python",
   "pygments_lexer": "ipython3",
   "version": "3.10.8"
  }
 },
 "nbformat": 4,
 "nbformat_minor": 5
}
